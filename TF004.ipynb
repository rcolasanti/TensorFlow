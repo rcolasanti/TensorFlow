{
 "cells": [
  {
   "cell_type": "markdown",
   "metadata": {},
   "source": [
    "Use interactive session\n"
   ]
  },
  {
   "cell_type": "code",
   "execution_count": 1,
   "metadata": {},
   "outputs": [],
   "source": [
    "import tensorflow as tf\n",
    "from sklearn.metrics import confusion_matrix\n",
    "from pprint import pprint\n",
    "\n",
    "from tensorflow.examples.tutorials.mnist import input_data\n",
    "\n",
    "import numpy as np\n",
    "\n"
   ]
  },
  {
   "cell_type": "code",
   "execution_count": 2,
   "metadata": {},
   "outputs": [
    {
     "name": "stdout",
     "output_type": "stream",
     "text": [
      "WARNING:tensorflow:From <ipython-input-2-116fad31cd95>:1: read_data_sets (from tensorflow.contrib.learn.python.learn.datasets.mnist) is deprecated and will be removed in a future version.\n",
      "Instructions for updating:\n",
      "Please use alternatives such as official/mnist/dataset.py from tensorflow/models.\n",
      "WARNING:tensorflow:From /home/ric/Projects/HOMLWSLT/env/lib/python3.6/site-packages/tensorflow/contrib/learn/python/learn/datasets/mnist.py:260: maybe_download (from tensorflow.contrib.learn.python.learn.datasets.base) is deprecated and will be removed in a future version.\n",
      "Instructions for updating:\n",
      "Please write your own downloading logic.\n",
      "WARNING:tensorflow:From /home/ric/Projects/HOMLWSLT/env/lib/python3.6/site-packages/tensorflow/contrib/learn/python/learn/datasets/mnist.py:262: extract_images (from tensorflow.contrib.learn.python.learn.datasets.mnist) is deprecated and will be removed in a future version.\n",
      "Instructions for updating:\n",
      "Please use tf.data to implement this functionality.\n",
      "Extracting tmp/data/train-images-idx3-ubyte.gz\n",
      "WARNING:tensorflow:From /home/ric/Projects/HOMLWSLT/env/lib/python3.6/site-packages/tensorflow/contrib/learn/python/learn/datasets/mnist.py:267: extract_labels (from tensorflow.contrib.learn.python.learn.datasets.mnist) is deprecated and will be removed in a future version.\n",
      "Instructions for updating:\n",
      "Please use tf.data to implement this functionality.\n",
      "Extracting tmp/data/train-labels-idx1-ubyte.gz\n",
      "WARNING:tensorflow:From /home/ric/Projects/HOMLWSLT/env/lib/python3.6/site-packages/tensorflow/contrib/learn/python/learn/datasets/mnist.py:110: dense_to_one_hot (from tensorflow.contrib.learn.python.learn.datasets.mnist) is deprecated and will be removed in a future version.\n",
      "Instructions for updating:\n",
      "Please use tf.one_hot on tensors.\n",
      "Extracting tmp/data/t10k-images-idx3-ubyte.gz\n",
      "Extracting tmp/data/t10k-labels-idx1-ubyte.gz\n",
      "WARNING:tensorflow:From /home/ric/Projects/HOMLWSLT/env/lib/python3.6/site-packages/tensorflow/contrib/learn/python/learn/datasets/mnist.py:290: DataSet.__init__ (from tensorflow.contrib.learn.python.learn.datasets.mnist) is deprecated and will be removed in a future version.\n",
      "Instructions for updating:\n",
      "Please use alternatives such as official/mnist/dataset.py from tensorflow/models.\n"
     ]
    }
   ],
   "source": [
    "mnist = input_data.read_data_sets(\"tmp/data/\", one_hot = True)\n",
    "\n",
    "n_nodes_hl1 = 500\n",
    "n_nodes_hl2 = 500\n",
    "n_nodes_hl3 = 500\n",
    "n_classes = 10\n",
    "batch_size = 100"
   ]
  },
  {
   "cell_type": "code",
   "execution_count": 3,
   "metadata": {},
   "outputs": [],
   "source": [
    "x = tf.placeholder('float', [None, 784])\n",
    "y = tf.placeholder('float')"
   ]
  },
  {
   "cell_type": "code",
   "execution_count": 4,
   "metadata": {},
   "outputs": [],
   "source": [
    "class TfAnn(object):\n",
    "    \n",
    "    def __init__(self):\n",
    "        self.hidden_1_layer = {'weights':[],'biases':[]}\n",
    "        self.hidden_2_layer = {'weights':[],'biases':[]}\n",
    "        self.hidden_3_layer = {'weights':[],'biases':[]}\n",
    "        self.output_layer = {'weights':[],'biases':[]}\n",
    "        self.np_hidden_1_layer={\"weights\":[],\"biases\":[]}\n",
    "        self.np_hidden_2_layer={\"weights\":[],\"biases\":[]}\n",
    "        self.np_hidden_3_layer={\"weights\":[],\"biases\":[]}\n",
    "        self.np_output_layer={\"weights\":[],\"biases\":[]}\n",
    "    \n",
    "    def init_empty(self,size,n_nodes_hl1,n_nodes_hl2,n_nodes_hl3,n_classes):\n",
    "        self.hidden_1_layer = {'weights':tf.Variable(tf.random_normal([size, n_nodes_hl1])),\n",
    "                      'biases':tf.Variable(tf.random_normal([n_nodes_hl1]))}\n",
    "\n",
    "        self.hidden_2_layer = {'weights':tf.Variable(tf.random_normal([n_nodes_hl1, n_nodes_hl2])),\n",
    "                          'biases':tf.Variable(tf.random_normal([n_nodes_hl2]))}\n",
    "\n",
    "        self.hidden_3_layer = {'weights':tf.Variable(tf.random_normal([n_nodes_hl2, n_nodes_hl3])),\n",
    "                          'biases':tf.Variable(tf.random_normal([n_nodes_hl3]))}\n",
    "\n",
    "        self.output_layer = {'weights':tf.Variable(tf.random_normal([n_nodes_hl3, n_classes])),\n",
    "                        'biases':tf.Variable(tf.random_normal([n_classes]))}\n",
    "\n",
    "\n",
    "    def init_values(self,size,l1_weights,l2_weights,l3_weights,out_weights,l1_biases,l2_biases,l3_biases,out_biases):\n",
    "        self.hidden_1_layer = {'weights':tf.Variable(l1_weights),'biases':tf.Variable(l1_biases)}\n",
    "        self.hidden_2_layer = {'weights':tf.Variable(l2_weights),'biases':tf.Variable(l2_biases)}\n",
    "        self.hidden_3_layer = {'weights':tf.Variable(l3_weights),'biases':tf.Variable(l3_biases)}\n",
    "        self.output_layer = {'weights':tf.Variable(out_weights),'biases':tf.Variable(out_biases)}\n",
    "\n",
    "\n",
    "    def create(self,data):\n",
    "        l1 = tf.add(tf.matmul(data,self.hidden_1_layer['weights']), self.hidden_1_layer['biases'])\n",
    "        l1 = tf.nn.relu(l1)\n",
    "\n",
    "        l2 = tf.add(tf.matmul(l1,self.hidden_2_layer['weights']), self.hidden_2_layer['biases'])\n",
    "        l2 = tf.nn.relu(l2)\n",
    "\n",
    "        l3 = tf.add(tf.matmul(l2,self.hidden_3_layer['weights']), self.hidden_3_layer['biases'])\n",
    "        l3 = tf.nn.relu(l3)\n",
    "\n",
    "        output =  tf.add(tf.matmul(l3,self.output_layer['weights']) , self.output_layer['biases'])\n",
    "\n",
    "        return output\n",
    "    \n",
    "    def extract(self):\n",
    "        self.np_hidden_1_layer[\"weights\"] = neural_network_model.hidden_1_layer[\"weights\"].eval()\n",
    "        self.np_hidden_2_layer[\"weights\"] = neural_network_model.hidden_2_layer[\"weights\"].eval()\n",
    "        self.np_hidden_3_layer[\"weights\"] = neural_network_model.hidden_3_layer[\"weights\"].eval()\n",
    "        self.np_output_layer[\"weights\"] = neural_network_model.output_layer[\"weights\"].eval()\n",
    "        self.np_hidden_1_layer[\"biases\"] = neural_network_model.hidden_1_layer[\"biases\"].eval()\n",
    "        self.np_hidden_2_layer[\"biases\"] = neural_network_model.hidden_2_layer[\"biases\"].eval()\n",
    "        self.np_hidden_3_layer[\"biases\"] = neural_network_model.hidden_3_layer[\"biases\"].eval()\n",
    "        self.np_output_layer[\"biases\"] = neural_network_model.output_layer[\"biases\"].eval()\n",
    "        "
   ]
  },
  {
   "cell_type": "code",
   "execution_count": 5,
   "metadata": {},
   "outputs": [],
   "source": [
    "def train_neural_network_interactive(d,neural_network_model):\n",
    "    prediction = neural_network_model.create(d)\n",
    "    cost = tf.reduce_mean( tf.nn.softmax_cross_entropy_with_logits(logits=prediction, labels=y) )\n",
    "    optimizer = tf.train.AdamOptimizer().minimize(cost)\n",
    "    hm_epochs = 10\n",
    "    sess = tf.InteractiveSession()\n",
    "    init = tf.initialize_all_variables()\n",
    "    sess.run(init)\n",
    "    for epoch in range(hm_epochs):\n",
    "            epoch_loss = 0\n",
    "            for _ in range(int(mnist.train.num_examples/batch_size)):\n",
    "                epoch_x, epoch_y = mnist.train.next_batch(batch_size)\n",
    "                _, c = sess.run([optimizer, cost], feed_dict={x: epoch_x, y: epoch_y})\n",
    "                epoch_loss += c\n",
    "\n",
    "            print('Epoch', epoch, 'completed out of',hm_epochs,'loss:',epoch_loss)\n",
    "\n",
    "\n",
    "    neural_network_model.extract()\n"
   ]
  },
  {
   "cell_type": "code",
   "execution_count": 6,
   "metadata": {},
   "outputs": [],
   "source": [
    "def test_neural_network_interactive(d,neural_network_model):\n",
    "    prediction = neural_network_model.create(d)\n",
    "    hm_epochs = 10\n",
    "    sess = tf.InteractiveSession()\n",
    "    init = tf.initialize_all_variables()\n",
    "    sess.run(init)\n",
    "    correct = tf.equal(tf.argmax(prediction, 1), tf.argmax(y, 1))\n",
    "    accuracy = tf.reduce_mean(tf.cast(correct, 'float'))\n",
    "    print('Accuracy:',accuracy.eval({x:mnist.test.images, y:mnist.test.labels}))\n",
    "\n",
    "     \n",
    "    y_test=(sess.run(prediction,feed_dict={\n",
    "                             x: mnist.test.images\n",
    "                              }))       \n",
    "    \n",
    "    true_class=np.argmax(mnist.test.labels,1)\n",
    "    predicted_class=np.argmax(y_test,1)\n",
    "    cm=confusion_matrix(predicted_class,true_class)\n",
    "    pprint(cm)\n",
    "    neural_network_model.extract()"
   ]
  },
  {
   "cell_type": "code",
   "execution_count": 7,
   "metadata": {},
   "outputs": [
    {
     "name": "stdout",
     "output_type": "stream",
     "text": [
      "WARNING:tensorflow:From <ipython-input-5-d3ee3f91a5ca>:3: softmax_cross_entropy_with_logits (from tensorflow.python.ops.nn_ops) is deprecated and will be removed in a future version.\n",
      "Instructions for updating:\n",
      "\n",
      "Future major versions of TensorFlow will allow gradients to flow\n",
      "into the labels input on backprop by default.\n",
      "\n",
      "See `tf.nn.softmax_cross_entropy_with_logits_v2`.\n",
      "\n",
      "WARNING:tensorflow:From /home/ric/Projects/HOMLWSLT/env/lib/python3.6/site-packages/tensorflow/python/util/tf_should_use.py:189: initialize_all_variables (from tensorflow.python.ops.variables) is deprecated and will be removed after 2017-03-02.\n",
      "Instructions for updating:\n",
      "Use `tf.global_variables_initializer` instead.\n",
      "Epoch 0 completed out of 10 loss: 1595294.816558838\n",
      "Epoch 1 completed out of 10 loss: 371427.2099304199\n",
      "Epoch 2 completed out of 10 loss: 202244.31945991516\n",
      "Epoch 3 completed out of 10 loss: 116461.35738129169\n",
      "Epoch 4 completed out of 10 loss: 71315.73213392496\n",
      "Epoch 5 completed out of 10 loss: 45391.652174089104\n",
      "Epoch 6 completed out of 10 loss: 33002.68025750469\n",
      "Epoch 7 completed out of 10 loss: 27122.86840927601\n",
      "Epoch 8 completed out of 10 loss: 17675.494365146646\n",
      "Epoch 9 completed out of 10 loss: 17310.87047871232\n"
     ]
    }
   ],
   "source": [
    "neural_network_model = TfAnn()\n",
    "neural_network_model.init_empty(784,n_nodes_hl1,n_nodes_hl2,n_nodes_hl3,n_classes)\n",
    "train_neural_network_interactive(x,neural_network_model)"
   ]
  },
  {
   "cell_type": "code",
   "execution_count": 16,
   "metadata": {},
   "outputs": [
    {
     "name": "stdout",
     "output_type": "stream",
     "text": [
      "(784, 500)\n",
      "Accuracy: 0.9503\n",
      "array([[ 944,    0,    4,    0,    0,    2,    4,    0,    3,    0],\n",
      "       [   0, 1112,    3,    0,    3,    2,    2,    1,    1,    8],\n",
      "       [   7,    1,  980,    8,    2,    1,    4,   14,    2,    2],\n",
      "       [   0,    0,    9,  952,    1,   21,    0,    4,    8,    2],\n",
      "       [   0,    0,    2,    0,  900,    0,    5,    5,    5,    4],\n",
      "       [   2,    1,    2,   12,    1,  826,   10,    1,    5,    4],\n",
      "       [  12,    3,    4,    0,    8,    8,  918,    0,    1,    2],\n",
      "       [   3,    3,    7,    8,    8,    1,    1,  965,    7,    8],\n",
      "       [  10,   15,   20,   27,   12,   25,   13,    5,  936,    9],\n",
      "       [   2,    0,    1,    3,   47,    6,    1,   33,    6,  970]])\n"
     ]
    }
   ],
   "source": [
    "test_neural_network_model = TfAnn()\n",
    "l1_weights = neural_network_model.np_hidden_1_layer[\"weights\"]\n",
    "pprint(l1_weights.shape)\n",
    "np.savetxt(\"Data/l1_weights.csv\", l1_weights, delimiter=\",\")\n",
    "l1_biases = neural_network_model.np_hidden_1_layer[\"biases\"]\n",
    "np.savetxt(\"Data/l1_biases.csv\", l1_biases, delimiter=\",\")\n",
    "l2_weights = neural_network_model.np_hidden_2_layer[\"weights\"]\n",
    "np.savetxt(\"Data/l2_weights.csv\", l2_weights, delimiter=\",\")\n",
    "l2_biases = neural_network_model.np_hidden_2_layer[\"biases\"]\n",
    "np.savetxt(\"Data/l2_biases.csv\", l2_biases, delimiter=\",\")\n",
    "l3_weights = neural_network_model.np_hidden_3_layer[\"weights\"]\n",
    "np.savetxt(\"Data/l3_weights.csv\", l3_weights, delimiter=\",\")\n",
    "l3_biases = neural_network_model.np_hidden_3_layer[\"biases\"]\n",
    "np.savetxt(\"Data/l3_biases.csv\", l3_biases, delimiter=\",\")\n",
    "out_weights = neural_network_model.np_output_layer[\"weights\"]\n",
    "np.savetxt(\"Data/out_weights.csv\", out_weights, delimiter=\",\")\n",
    "out_biases = neural_network_model.np_output_layer[\"biases\"]\n",
    "np.savetxt(\"Data/out_biases.csv\", out_biases, delimiter=\",\")\n",
    "\n",
    "test_neural_network_model.init_values(784,l1_weights,l2_weights,l3_weights,out_weights,l1_biases,l2_biases,l3_biases,out_biases)\n",
    "test_neural_network_interactive(x,test_neural_network_model)"
   ]
  },
  {
   "cell_type": "code",
   "execution_count": null,
   "metadata": {},
   "outputs": [],
   "source": []
  }
 ],
 "metadata": {
  "kernelspec": {
   "display_name": "Python 3",
   "language": "python",
   "name": "python3"
  },
  "language_info": {
   "codemirror_mode": {
    "name": "ipython",
    "version": 3
   },
   "file_extension": ".py",
   "mimetype": "text/x-python",
   "name": "python",
   "nbconvert_exporter": "python",
   "pygments_lexer": "ipython3",
   "version": "3.6.7"
  }
 },
 "nbformat": 4,
 "nbformat_minor": 2
}
