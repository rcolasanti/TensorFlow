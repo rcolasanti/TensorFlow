{
 "cells": [
  {
   "cell_type": "markdown",
   "metadata": {},
   "source": [
    "Load data for network from file"
   ]
  },
  {
   "cell_type": "code",
   "execution_count": 9,
   "metadata": {},
   "outputs": [],
   "source": [
    "import tensorflow as tf\n",
    "from sklearn.metrics import confusion_matrix\n",
    "from pprint import pprint\n",
    "\n",
    "from tensorflow.examples.tutorials.mnist import input_data\n",
    "\n",
    "import numpy as np\n",
    "\n"
   ]
  },
  {
   "cell_type": "code",
   "execution_count": 10,
   "metadata": {},
   "outputs": [
    {
     "name": "stdout",
     "output_type": "stream",
     "text": [
      "Extracting tmp/data/train-images-idx3-ubyte.gz\n",
      "Extracting tmp/data/train-labels-idx1-ubyte.gz\n",
      "Extracting tmp/data/t10k-images-idx3-ubyte.gz\n",
      "Extracting tmp/data/t10k-labels-idx1-ubyte.gz\n"
     ]
    }
   ],
   "source": [
    "mnist = input_data.read_data_sets(\"tmp/data/\", one_hot = True)\n",
    "\n",
    "n_nodes_hl1 = 500\n",
    "n_nodes_hl2 = 500\n",
    "n_nodes_hl3 = 500\n",
    "n_classes = 10\n",
    "batch_size = 100"
   ]
  },
  {
   "cell_type": "code",
   "execution_count": 11,
   "metadata": {},
   "outputs": [],
   "source": [
    "x = tf.placeholder('float', [None, 784])\n",
    "y = tf.placeholder('float')"
   ]
  },
  {
   "cell_type": "code",
   "execution_count": 12,
   "metadata": {},
   "outputs": [],
   "source": [
    "class TfAnn(object):\n",
    "    \n",
    "    def __init__(self):\n",
    "        self.hidden_1_layer = {'weights':[],'biases':[]}\n",
    "        self.hidden_2_layer = {'weights':[],'biases':[]}\n",
    "        self.hidden_3_layer = {'weights':[],'biases':[]}\n",
    "        self.output_layer = {'weights':[],'biases':[]}\n",
    "        self.np_hidden_1_layer={\"weights\":[],\"biases\":[]}\n",
    "        self.np_hidden_2_layer={\"weights\":[],\"biases\":[]}\n",
    "        self.np_hidden_3_layer={\"weights\":[],\"biases\":[]}\n",
    "        self.np_output_layer={\"weights\":[],\"biases\":[]}\n",
    "    \n",
    "    def init_empty(self,size,n_nodes_hl1,n_nodes_hl2,n_nodes_hl3,n_classes):\n",
    "        self.hidden_1_layer = {'weights':tf.Variable(tf.random_normal([size, n_nodes_hl1])),\n",
    "                      'biases':tf.Variable(tf.random_normal([n_nodes_hl1]))}\n",
    "\n",
    "        self.hidden_2_layer = {'weights':tf.Variable(tf.random_normal([n_nodes_hl1, n_nodes_hl2])),\n",
    "                          'biases':tf.Variable(tf.random_normal([n_nodes_hl2]))}\n",
    "\n",
    "        self.hidden_3_layer = {'weights':tf.Variable(tf.random_normal([n_nodes_hl2, n_nodes_hl3])),\n",
    "                          'biases':tf.Variable(tf.random_normal([n_nodes_hl3]))}\n",
    "\n",
    "        self.output_layer = {'weights':tf.Variable(tf.random_normal([n_nodes_hl3, n_classes])),\n",
    "                        'biases':tf.Variable(tf.random_normal([n_classes]))}\n",
    "\n",
    "\n",
    "    def init_values(self,size,l1_weights,l2_weights,l3_weights,out_weights,l1_biases,l2_biases,l3_biases,out_biases):\n",
    "        self.hidden_1_layer = {'weights':tf.Variable(l1_weights),'biases':tf.Variable(l1_biases)}\n",
    "        self.hidden_2_layer = {'weights':tf.Variable(l2_weights),'biases':tf.Variable(l2_biases)}\n",
    "        self.hidden_3_layer = {'weights':tf.Variable(l3_weights),'biases':tf.Variable(l3_biases)}\n",
    "        self.output_layer = {'weights':tf.Variable(out_weights),'biases':tf.Variable(out_biases)}\n",
    "\n",
    "\n",
    "    def create(self,data):\n",
    "        l1 = tf.add(tf.matmul(data,self.hidden_1_layer['weights']), self.hidden_1_layer['biases'])\n",
    "        l1 = tf.nn.relu(l1)\n",
    "\n",
    "        l2 = tf.add(tf.matmul(l1,self.hidden_2_layer['weights']), self.hidden_2_layer['biases'])\n",
    "        l2 = tf.nn.relu(l2)\n",
    "\n",
    "        l3 = tf.add(tf.matmul(l2,self.hidden_3_layer['weights']), self.hidden_3_layer['biases'])\n",
    "        l3 = tf.nn.relu(l3)\n",
    "\n",
    "        output =  tf.add(tf.matmul(l3,self.output_layer['weights']) , self.output_layer['biases'])\n",
    "\n",
    "        return output\n",
    "    \n",
    "    def extract(self):\n",
    "        self.np_hidden_1_layer[\"weights\"] = neural_network_model.hidden_1_layer[\"weights\"].eval()\n",
    "        self.np_hidden_2_layer[\"weights\"] = neural_network_model.hidden_2_layer[\"weights\"].eval()\n",
    "        self.np_hidden_3_layer[\"weights\"] = neural_network_model.hidden_3_layer[\"weights\"].eval()\n",
    "        self.np_output_layer[\"weights\"] = neural_network_model.output_layer[\"weights\"].eval()\n",
    "        self.np_hidden_1_layer[\"biases\"] = neural_network_model.hidden_1_layer[\"biases\"].eval()\n",
    "        self.np_hidden_2_layer[\"biases\"] = neural_network_model.hidden_2_layer[\"biases\"].eval()\n",
    "        self.np_hidden_3_layer[\"biases\"] = neural_network_model.hidden_3_layer[\"biases\"].eval()\n",
    "        self.np_output_layer[\"biases\"] = neural_network_model.output_layer[\"biases\"].eval()\n",
    "        "
   ]
  },
  {
   "cell_type": "code",
   "execution_count": 20,
   "metadata": {},
   "outputs": [],
   "source": [
    "def test_neural_network_interactive(d,neural_network_model):\n",
    "    prediction = neural_network_model.create(d)\n",
    "    hm_epochs = 10\n",
    "    sess = tf.InteractiveSession()\n",
    "    init = tf.initialize_all_variables()\n",
    "    sess.run(init)\n",
    "    correct = tf.equal(tf.argmax(prediction, 1), tf.argmax(y, 1))\n",
    "    accuracy = tf.reduce_mean(tf.cast(correct, 'float'))\n",
    "    print('Accuracy:',accuracy.eval({x:mnist.test.images, y:mnist.test.labels}))\n",
    "\n",
    "     \n",
    "    y_test=(sess.run(prediction,feed_dict={\n",
    "                             x: mnist.test.images\n",
    "                              }))       \n",
    "    \n",
    "    true_class=np.argmax(mnist.test.labels,1)\n",
    "    predicted_class=np.argmax(y_test,1)\n",
    "    cm=confusion_matrix(predicted_class,true_class)\n",
    "    pprint(cm)"
   ]
  },
  {
   "cell_type": "code",
   "execution_count": 22,
   "metadata": {
    "scrolled": false
   },
   "outputs": [
    {
     "name": "stdout",
     "output_type": "stream",
     "text": [
      "(784, 500)\n",
      "(500,)\n",
      "(500, 500)\n",
      "(500,)\n",
      "(500, 500)\n",
      "(500,)\n",
      "(500, 10)\n",
      "(10,)\n",
      "Accuracy: 0.9503\n",
      "array([[ 944,    0,    4,    0,    0,    2,    4,    0,    3,    0],\n",
      "       [   0, 1112,    3,    0,    3,    2,    2,    1,    1,    8],\n",
      "       [   7,    1,  980,    8,    2,    1,    4,   14,    2,    2],\n",
      "       [   0,    0,    9,  952,    1,   21,    0,    4,    8,    2],\n",
      "       [   0,    0,    2,    0,  900,    0,    5,    5,    5,    4],\n",
      "       [   2,    1,    2,   12,    1,  826,   10,    1,    5,    4],\n",
      "       [  12,    3,    4,    0,    8,    8,  918,    0,    1,    2],\n",
      "       [   3,    3,    7,    8,    8,    1,    1,  965,    7,    8],\n",
      "       [  10,   15,   20,   27,   12,   25,   13,    5,  936,    9],\n",
      "       [   2,    0,    1,    3,   47,    6,    1,   33,    6,  970]])\n"
     ]
    }
   ],
   "source": [
    "test_neural_network_model = TfAnn()\n",
    "l1_weights = np.genfromtxt(\"Data/l1_weights.csv\", delimiter=\",\").astype(np.float32)\n",
    "pprint(l1_weights.shape)\n",
    "l1_biases = np.genfromtxt(\"Data/l1_biases.csv\", delimiter=\",\").astype(np.float32)\n",
    "pprint(l1_biases.shape)\n",
    "l2_weights = np.genfromtxt(\"Data/l2_weights.csv\", delimiter=\",\").astype(np.float32)\n",
    "pprint(l2_weights.shape)\n",
    "l2_biases = np.genfromtxt(\"Data/l2_biases.csv\", delimiter=\",\").astype(np.float32)\n",
    "pprint(l2_biases.shape)\n",
    "l3_weights = np.genfromtxt(\"Data/l3_weights.csv\", delimiter=\",\").astype(np.float32)\n",
    "pprint(l3_weights.shape)\n",
    "l3_biases = np.genfromtxt(\"Data/l3_biases.csv\", delimiter=\",\").astype(np.float32)\n",
    "pprint(l3_biases.shape)\n",
    "out_weights = np.genfromtxt(\"Data/out_weights.csv\", delimiter=\",\").astype(np.float32)\n",
    "pprint(out_weights.shape)\n",
    "out_biases = np.genfromtxt(\"Data/out_biases.csv\", delimiter=\",\").astype(np.float32)\n",
    "pprint(out_biases.shape)\n",
    "\n",
    "test_neural_network_model.init_values(784,l1_weights,l2_weights,l3_weights,out_weights,l1_biases,l2_biases,l3_biases,out_biases)\n",
    "test_neural_network_interactive(x,test_neural_network_model)"
   ]
  },
  {
   "cell_type": "code",
   "execution_count": null,
   "metadata": {},
   "outputs": [],
   "source": []
  },
  {
   "cell_type": "code",
   "execution_count": null,
   "metadata": {},
   "outputs": [],
   "source": []
  }
 ],
 "metadata": {
  "kernelspec": {
   "display_name": "Python 3",
   "language": "python",
   "name": "python3"
  },
  "language_info": {
   "codemirror_mode": {
    "name": "ipython",
    "version": 3
   },
   "file_extension": ".py",
   "mimetype": "text/x-python",
   "name": "python",
   "nbconvert_exporter": "python",
   "pygments_lexer": "ipython3",
   "version": "3.6.7"
  }
 },
 "nbformat": 4,
 "nbformat_minor": 2
}
