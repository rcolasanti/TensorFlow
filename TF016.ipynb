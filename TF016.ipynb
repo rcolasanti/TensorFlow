{
 "cells": [
  {
   "cell_type": "markdown",
   "metadata": {},
   "source": [
    "#### From HOML Chapter 2 – End-to-end Machine Learning project\n",
    "\n",
    "*predict median house values in Californian districts, given a number of features from these districts.*\n",
    "\n",
    "\n",
    "Load and train the traing data"
   ]
  },
  {
   "cell_type": "code",
   "execution_count": 25,
   "metadata": {},
   "outputs": [],
   "source": [
    "import numpy as np\n",
    "from pprint import pprint"
   ]
  },
  {
   "cell_type": "code",
   "execution_count": 26,
   "metadata": {},
   "outputs": [],
   "source": [
    "housing = np.genfromtxt('datasets/housing/housing_train_array.csv', delimiter=',')\n",
    "housing_target = np.genfromtxt('datasets/housing/housing_train_target_array.csv', delimiter=',')"
   ]
  },
  {
   "cell_type": "code",
   "execution_count": 27,
   "metadata": {},
   "outputs": [
    {
     "data": {
      "text/plain": [
       "69050.98178244587"
      ]
     },
     "execution_count": 27,
     "metadata": {},
     "output_type": "execute_result"
    }
   ],
   "source": [
    "from sklearn.metrics import mean_squared_error\n",
    "from sklearn.linear_model import LinearRegression\n",
    "\n",
    "lin_reg = LinearRegression()\n",
    "lin_reg.fit(housing, housing_target)\n",
    "\n",
    "housing_predictions = lin_reg.predict(housing)\n",
    "lin_mse = mean_squared_error(housing_target, housing_predictions)\n",
    "lin_rmse = np.sqrt(lin_mse)\n",
    "lin_rmse"
   ]
  },
  {
   "cell_type": "code",
   "execution_count": 28,
   "metadata": {},
   "outputs": [],
   "source": [
    "from sklearn.tree import DecisionTreeRegressor\n",
    "from sklearn.model_selection import cross_val_score\n",
    "tree_reg = DecisionTreeRegressor(random_state=42)"
   ]
  },
  {
   "cell_type": "code",
   "execution_count": 29,
   "metadata": {},
   "outputs": [],
   "source": [
    "def display_scores(scores):\n",
    "    print(\"Scores:\", scores)\n",
    "    print(\"Mean:\", scores.mean())\n",
    "    print(\"Standard deviation:\", scores.std())"
   ]
  },
  {
   "cell_type": "code",
   "execution_count": 30,
   "metadata": {},
   "outputs": [
    {
     "name": "stdout",
     "output_type": "stream",
     "text": [
      "array([-4.48190321e+09, -4.50573195e+09, -5.05052157e+09, -4.80388628e+09,\n",
      "       -4.75517703e+09, -5.71870935e+09, -4.46385263e+09, -4.90116341e+09,\n",
      "       -4.81913280e+09, -4.79081291e+09])\n",
      "Scores: [66947.01789833 67124.74914113 71067.02170485 69310.0734372\n",
      " 68957.79164907 75622.14855177 66812.0694578  70008.30958407\n",
      " 69419.97404584 69215.69846262]\n",
      "Mean: 69448.48539327028\n",
      "Standard deviation: 2448.8752390813447\n"
     ]
    }
   ],
   "source": [
    "scores = cross_val_score(tree_reg, housing, housing_target,\n",
    "                         scoring=\"neg_mean_squared_error\", cv=10)\n",
    "pprint(scores)\n",
    "tree_rmse_scores = np.sqrt(-scores)\n",
    "display_scores(tree_rmse_scores)"
   ]
  },
  {
   "cell_type": "code",
   "execution_count": 31,
   "metadata": {},
   "outputs": [
    {
     "name": "stdout",
     "output_type": "stream",
     "text": [
      "array([-4.54955924e+09, -4.53326193e+09, -4.67334235e+09, -5.57111294e+09,\n",
      "       -4.66688012e+09, -5.13065836e+09, -4.27207885e+09, -4.70206808e+09,\n",
      "       -5.25279671e+09, -4.63734690e+09])\n",
      "Scores: [67450.42057782 67329.50264436 68361.84864912 74639.88837894\n",
      " 68314.56738182 71628.61410355 65361.14176205 68571.62738037\n",
      " 72476.18028894 68098.06828865]\n",
      "Mean: 69223.18594556303\n",
      "Standard deviation: 2657.2683112776926\n"
     ]
    }
   ],
   "source": [
    "scores = cross_val_score(lin_reg, housing, housing_target,\n",
    "                         scoring=\"neg_mean_squared_error\", cv=10)\n",
    "pprint(scores)\n",
    "tree_rmse_scores = np.sqrt(-scores)\n",
    "display_scores(tree_rmse_scores)"
   ]
  },
  {
   "cell_type": "code",
   "execution_count": 32,
   "metadata": {},
   "outputs": [
    {
     "name": "stdout",
     "output_type": "stream",
     "text": [
      "array([-2.53740638e+09, -2.41321837e+09, -2.73279971e+09, -2.82438628e+09,\n",
      "       -2.73988141e+09, -3.18550876e+09, -2.59496291e+09, -2.86669855e+09,\n",
      "       -2.86382169e+09, -2.70172232e+09])\n",
      "Scores: [50372.67497764 49124.51899831 52276.18684545 53144.95538783\n",
      " 52343.87653726 56440.31145704 50940.7784416  53541.5591025\n",
      " 53514.68671985 51978.09457949]\n",
      "Mean: 52367.764304695695\n",
      "Standard deviation: 1912.5637580637838\n"
     ]
    }
   ],
   "source": [
    "from sklearn.ensemble import RandomForestRegressor\n",
    "\n",
    "forest_reg = RandomForestRegressor(n_estimators=10, random_state=42)\n",
    "scores = cross_val_score(forest_reg, housing, housing_target,\n",
    "                         scoring=\"neg_mean_squared_error\", cv=10)\n",
    "pprint(scores)\n",
    "tree_rmse_scores = np.sqrt(-scores)\n",
    "display_scores(tree_rmse_scores)"
   ]
  },
  {
   "cell_type": "code",
   "execution_count": 33,
   "metadata": {},
   "outputs": [
    {
     "name": "stderr",
     "output_type": "stream",
     "text": [
      "/home/ric/Projects/Python/env/lib/python3.6/site-packages/sklearn/model_selection/_split.py:652: Warning: The least populated class in y has only 1 members, which is too few. The minimum number of members in any class cannot be less than n_splits=10.\n",
      "  % (min_groups, self.n_splits)), Warning)\n"
     ]
    },
    {
     "name": "stdout",
     "output_type": "stream",
     "text": [
      "array([-7.93499878e+09, -6.55702812e+09, -6.48875821e+09, -6.39319795e+09,\n",
      "       -5.63725437e+09, -5.67863938e+09, -5.91823947e+09, -7.59400257e+09,\n",
      "       -7.99042598e+09, -7.47138275e+09])\n",
      "Scores: [89078.61013341 80975.47853923 80552.82870733 79957.47590066\n",
      " 75081.65135528 75356.74738498 76930.09472549 87143.57443433\n",
      " 89389.18265453 86437.16070481]\n",
      "Mean: 82090.28045400501\n",
      "Standard deviation: 5251.53440092081\n"
     ]
    }
   ],
   "source": [
    "from sklearn import tree\n",
    "dt = tree.DecisionTreeClassifier()\n",
    "scores = cross_val_score(dt, housing, housing_target,\n",
    "                         scoring=\"neg_mean_squared_error\", cv=10)\n",
    "pprint(scores)\n",
    "tree_rmse_scores = np.sqrt(-scores)\n",
    "display_scores(tree_rmse_scores)"
   ]
  },
  {
   "cell_type": "code",
   "execution_count": 38,
   "metadata": {},
   "outputs": [],
   "source": [
    "from sklearn.neural_network import MLPClassifier\n",
    "mlp = MLPClassifier(solver='lbfgs', alpha=1e-5,hidden_layer_sizes=(5, 2), random_state=1)"
   ]
  },
  {
   "cell_type": "code",
   "execution_count": null,
   "metadata": {},
   "outputs": [
    {
     "name": "stderr",
     "output_type": "stream",
     "text": [
      "/home/ric/Projects/Python/env/lib/python3.6/site-packages/sklearn/model_selection/_split.py:652: Warning: The least populated class in y has only 1 members, which is too few. The minimum number of members in any class cannot be less than n_splits=10.\n",
      "  % (min_groups, self.n_splits)), Warning)\n"
     ]
    }
   ],
   "source": [
    "scores = cross_val_score(clf, housing, housing_target,\n",
    "                         scoring=\"neg_mean_squared_error\", cv=10)\n",
    "pprint(scores)\n",
    "tree_rmse_scores = np.sqrt(-scores)\n",
    "display_scores(tree_rmse_scores)"
   ]
  },
  {
   "cell_type": "code",
   "execution_count": null,
   "metadata": {},
   "outputs": [],
   "source": []
  }
 ],
 "metadata": {
  "kernelspec": {
   "display_name": "Python 3",
   "language": "python",
   "name": "python3"
  },
  "language_info": {
   "codemirror_mode": {
    "name": "ipython",
    "version": 3
   },
   "file_extension": ".py",
   "mimetype": "text/x-python",
   "name": "python",
   "nbconvert_exporter": "python",
   "pygments_lexer": "ipython3",
   "version": "3.6.7"
  }
 },
 "nbformat": 4,
 "nbformat_minor": 2
}
