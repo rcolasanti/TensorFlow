{
 "cells": [
  {
   "cell_type": "markdown",
   "metadata": {},
   "source": [
    "Load data for network from file"
   ]
  },
  {
   "cell_type": "code",
   "execution_count": 121,
   "metadata": {},
   "outputs": [],
   "source": [
    "import tensorflow as tf\n",
    "from sklearn.metrics import confusion_matrix\n",
    "from pprint import pprint\n",
    "from tensorflow.examples.tutorials.mnist import input_data\n",
    "import numpy as np\n",
    "import matplotlib.pyplot as plt\n",
    "import json\n",
    "%matplotlib inline\n"
   ]
  },
  {
   "cell_type": "code",
   "execution_count": 122,
   "metadata": {},
   "outputs": [],
   "source": [
    "wine = np.genfromtxt(\"datasets/wine/wine_train_array.csv\", delimiter=',')\n"
   ]
  },
  {
   "cell_type": "code",
   "execution_count": 123,
   "metadata": {},
   "outputs": [
    {
     "data": {
      "text/plain": [
       "array([0.59210526, 0.17786561, 0.79569892, 0.25257732, 0.43478261,\n",
       "       0.55862069, 0.68823529, 0.42      , 0.29746835, 0.28327645,\n",
       "       0.49593496, 0.56981132, 0.48666128, 1.        , 0.        ,\n",
       "       0.        ])"
      ]
     },
     "execution_count": 123,
     "metadata": {},
     "output_type": "execute_result"
    }
   ],
   "source": [
    "wine[0]"
   ]
  },
  {
   "cell_type": "code",
   "execution_count": 124,
   "metadata": {},
   "outputs": [],
   "source": [
    "X = wine[:,:-3]\n",
    "Y = wine[:,-3:]"
   ]
  },
  {
   "cell_type": "code",
   "execution_count": 125,
   "metadata": {},
   "outputs": [
    {
     "data": {
      "text/plain": [
       "array([0.59210526, 0.17786561, 0.79569892, 0.25257732, 0.43478261,\n",
       "       0.55862069, 0.68823529, 0.42      , 0.29746835, 0.28327645,\n",
       "       0.49593496, 0.56981132, 0.48666128])"
      ]
     },
     "execution_count": 125,
     "metadata": {},
     "output_type": "execute_result"
    }
   ],
   "source": [
    "X[0]"
   ]
  },
  {
   "cell_type": "code",
   "execution_count": 126,
   "metadata": {},
   "outputs": [
    {
     "data": {
      "text/plain": [
       "array([1., 0., 0.])"
      ]
     },
     "execution_count": 126,
     "metadata": {},
     "output_type": "execute_result"
    }
   ],
   "source": [
    "Y[0]"
   ]
  },
  {
   "cell_type": "code",
   "execution_count": 127,
   "metadata": {},
   "outputs": [],
   "source": [
    "#train_x,train_y,test_x,test_y = create_feature_sets_and_labels('Data/pos.txt','Data/neg.txt')\n",
    "train_x = X\n",
    "train_y = Y\n",
    "\n"
   ]
  },
  {
   "cell_type": "code",
   "execution_count": 128,
   "metadata": {},
   "outputs": [],
   "source": [
    "class TfAnn(object):\n",
    "    \n",
    "    def __init__(self):\n",
    "        self.hidden=[]\n",
    "        self.np_hidden=[]\n",
    "        \n",
    "        self.n_nodes=[]\n",
    "        self.n_classes = 0\n",
    "        self.n_hiden_layers = 0\n",
    "\n",
    "    \n",
    "    def init_empty(self,layers,n_classes,size):\n",
    "        self.n_classes = n_classes\n",
    "        self.n_hiden_layers = len(layers)\n",
    "        for i in range(self.n_hiden_layers):\n",
    "            self.hidden.append({'weights':[],'biases':[]})\n",
    "            self.np_hidden.append({'weights':[],'biases':[]})\n",
    "            self.n_nodes.append(layers[i])\n",
    "        self.output_layer = {'weights':[],'biases':[]}\n",
    "        self.np_output_layer={\"weights\":[],\"biases\":[]}\n",
    "\n",
    "        for i in range(self.n_hiden_layers):\n",
    "            self.hidden[i] = {'weights':tf.Variable(tf.random_normal([size, self.n_nodes[i]])),\n",
    "                      'biases':tf.Variable(tf.random_normal([self.n_nodes[i]]))}\n",
    "            \n",
    "        self.output_layer = {'weights':tf.Variable(tf.random_normal([self.n_nodes[-1], self.n_classes])),\n",
    "                        'biases':tf.Variable(tf.random_normal([self.n_classes]))}\n",
    "\n",
    "\n",
    "    def init_json(self,tf_json):\n",
    "        tf_data = json.loads(tf_json)\n",
    "        self.n_classes = tf_data[\"n_classes\"]\n",
    "        self.n_hiden_layers = tf_data[\"n_hiden_layers\"]\n",
    "        self.hidden =tf_data[\"hidden\"]\n",
    "        self.output_layer =tf_data[\"output\"]\n",
    "\n",
    "\n",
    "    def create(self,data):\n",
    "        # This is the heart of the ann where multiply the data by the wights to the layers \n",
    "        for i in range(self.n_hiden_layers):\n",
    "            layer = tf.add(tf.matmul(data,self.hidden[i]['weights']), self.hidden[i]['biases'])\n",
    "            layer= tf.nn.relu(layer)\n",
    "        output =  tf.add(tf.matmul(layer,self.output_layer['weights']) , self.output_layer['biases'])\n",
    "        return output\n",
    "    \n",
    "    def extract(self):\n",
    "        for i in range(self.n_hiden_layers):\n",
    "            self.np_hidden[i][\"weights\"] = neural_network_model.hidden[i][\"weights\"].eval().tolist()\n",
    "            self.np_hidden[i][\"biases\"] = neural_network_model.hidden[i][\"biases\"].eval().tolist()\n",
    "        self.np_output_layer[\"weights\"] = neural_network_model.output_layer[\"weights\"].eval().tolist()\n",
    "        self.np_output_layer[\"biases\"] = neural_network_model.output_layer[\"biases\"].eval().tolist()\n",
    "        return json.dumps({\"n_classes\":self.n_classes,\"n_hiden_layers\":self.n_hiden_layers ,\"hidden\":self.np_hidden,\"output\":self.np_output_layer}, ensure_ascii=False)\n",
    "        \n",
    "        "
   ]
  },
  {
   "cell_type": "code",
   "execution_count": 129,
   "metadata": {},
   "outputs": [],
   "source": [
    "def train_neural_network_interactive(neural_network_model,x_data_train,y_data_train,x_data_test,y_data_test):\n",
    "    x = tf.placeholder('float')\n",
    "    y = tf.placeholder('float')\n",
    "    prediction = neural_network_model.create(x)\n",
    "    cost = tf.reduce_mean( tf.nn.softmax_cross_entropy_with_logits(logits=prediction, labels=y) )\n",
    "    optimizer = tf.train.AdamOptimizer().minimize(cost)\n",
    "    hm_epochs = 2500\n",
    "    sess = tf.InteractiveSession()\n",
    "    init = tf.initialize_all_variables()\n",
    "    sess.run(init)\n",
    "    losses=[]\n",
    "    for epoch in range(hm_epochs):\n",
    "            _, c = sess.run([optimizer, cost], feed_dict={x:x_data_train,\n",
    "                                                          y:y_data_train})\n",
    "            losses.append(c)\n",
    "\n",
    "    y_test_res=(sess.run(prediction,feed_dict={\n",
    "                             x:x_data_test\n",
    "                              }))       \n",
    "    \n",
    "    true_class=np.argmax(y_data_test,1)\n",
    "    predicted_class=np.argmax(y_test_res,1)\n",
    "    return confusion_matrix(predicted_class,true_class),losses\n",
    "   "
   ]
  },
  {
   "cell_type": "code",
   "execution_count": 130,
   "metadata": {},
   "outputs": [],
   "source": [
    "from sklearn.model_selection import StratifiedKFold\n",
    "train_index=[]\n",
    "test_index=[]\n",
    "splits =5\n",
    "skf = StratifiedKFold(n_splits=splits,random_state=0,shuffle=True)\n",
    "for train_idx, test_idx in skf.split(train_x,train_y[:,0]):               \n",
    "    train_index.append(train_idx)\n",
    "    test_index.append(test_idx)"
   ]
  },
  {
   "cell_type": "code",
   "execution_count": 131,
   "metadata": {
    "scrolled": false
   },
   "outputs": [
    {
     "name": "stderr",
     "output_type": "stream",
     "text": [
      "/home/ric/Projects/Python/env/lib/python3.6/site-packages/tensorflow/python/client/session.py:1702: UserWarning: An interactive session is already active. This can cause out-of-memory errors in some cases. You must explicitly call `InteractiveSession.close()` to release resources held by the other session(s).\n",
      "  warnings.warn('An interactive session is already active. This can '\n"
     ]
    },
    {
     "name": "stdout",
     "output_type": "stream",
     "text": [
      "array([[10,  0,  0],\n",
      "       [ 0, 12,  0],\n",
      "       [ 0,  0,  7]])\n"
     ]
    },
    {
     "data": {
      "image/png": "[encoded data removed]",
      "text/plain": [
       "<Figure size 432x288 with 1 Axes>"
      ]
     },
     "metadata": {
      "needs_background": "light"
     },
     "output_type": "display_data"
    },
    {
     "name": "stdout",
     "output_type": "stream",
     "text": [
      "array([[10,  0,  0],\n",
      "       [ 0,  8,  0],\n",
      "       [ 0,  0, 11]])\n"
     ]
    },
    {
     "data": {
      "image/png": "[encoded data removed]",
      "text/plain": [
       "<Figure size 432x288 with 1 Axes>"
      ]
     },
     "metadata": {
      "needs_background": "light"
     },
     "output_type": "display_data"
    },
    {
     "name": "stdout",
     "output_type": "stream",
     "text": [
      "array([[ 9,  2,  0],\n",
      "       [ 0, 11,  0],\n",
      "       [ 0,  0,  6]])\n"
     ]
    },
    {
     "data": {
      "image/png": "[encoded data removed]",
      "text/plain": [
       "<Figure size 432x288 with 1 Axes>"
      ]
     },
     "metadata": {
      "needs_background": "light"
     },
     "output_type": "display_data"
    },
    {
     "name": "stdout",
     "output_type": "stream",
     "text": [
      "array([[ 9,  1,  0],\n",
      "       [ 0, 10,  0],\n",
      "       [ 0,  0,  8]])\n"
     ]
    },
    {
     "data": {
      "image/png": "[encoded data removed]",
      "text/plain": [
       "<Figure size 432x288 with 1 Axes>"
      ]
     },
     "metadata": {
      "needs_background": "light"
     },
     "output_type": "display_data"
    },
    {
     "name": "stdout",
     "output_type": "stream",
     "text": [
      "array([[ 9,  0,  0],\n",
      "       [ 0, 13,  0],\n",
      "       [ 0,  0,  6]])\n"
     ]
    },
    {
     "data": {
      "image/png": "[encoded data removed]",
      "text/plain": [
       "<Figure size 432x288 with 1 Axes>"
      ]
     },
     "metadata": {
      "needs_background": "light"
     },
     "output_type": "display_data"
    }
   ],
   "source": [
    "for fold in range(splits):\n",
    "    neural_network_model = TfAnn()\n",
    "    neural_network_model.init_empty([13],len(train_y[0]),len(train_x[0]))\n",
    "    x_data_train = train_x[train_index[fold]]\n",
    "    y_data_train = train_y[train_index[fold]] \n",
    "    x_data_test = train_x[test_index[fold]]\n",
    "    y_data_test = train_y[test_index[fold]]\n",
    "    cf,loss = train_neural_network_interactive(neural_network_model,x_data_train,y_data_train,x_data_test,y_data_test)\n",
    "    pprint(cf)\n",
    "    plt.plot(loss)\n",
    "    plt.show()"
   ]
  },
  {
   "cell_type": "code",
   "execution_count": 132,
   "metadata": {},
   "outputs": [
    {
     "name": "stdout",
     "output_type": "stream",
     "text": [
      "array([[47,  0,  0],\n",
      "       [ 0, 57,  0],\n",
      "       [ 0,  0, 38]])\n"
     ]
    },
    {
     "data": {
      "image/png": "[encoded data removed]",
      "text/plain": [
       "<Figure size 432x288 with 1 Axes>"
      ]
     },
     "metadata": {
      "needs_background": "light"
     },
     "output_type": "display_data"
    }
   ],
   "source": [
    "neural_network_model = TfAnn()\n",
    "neural_network_model.init_empty([13],len(train_y[0]),len(train_x[0]))\n",
    "x_data_train = train_x\n",
    "y_data_train = train_y\n",
    "x_data_test = train_x\n",
    "y_data_test = train_y\n",
    "cf,loss = train_neural_network_interactive(neural_network_model,x_data_train,y_data_train,x_data_test,y_data_test)\n",
    "pprint(cf)\n",
    "plt.plot(loss)\n",
    "plt.show()"
   ]
  },
  {
   "cell_type": "code",
   "execution_count": 133,
   "metadata": {},
   "outputs": [],
   "source": [
    "tf_json = neural_network_model.extract()"
   ]
  },
  {
   "cell_type": "code",
   "execution_count": 134,
   "metadata": {},
   "outputs": [
    {
     "name": "stdout",
     "output_type": "stream",
     "text": [
      "('{\"n_classes\": 3, \"n_hiden_layers\": 1, \"hidden\": [{\"weights\": '\n",
      " '[[-0.6747685670852661, -1.0129708051681519, 0.07212898880243301, '\n",
      " '-0.6548081040382385, 1.7981441020965576, -0.3317052721977234, '\n",
      " '1.9922807216644287, -0.6728514432907104, 0.7882229089736938, '\n",
      " '-0.3577181100845337, 0.20357367396354675, 0.27008095383644104, '\n",
      " '-2.889350175857544], [-0.036357227712869644, -0.30494424700737, '\n",
      " '-0.5950943231582642, -2.0209920406341553, 1.3817710876464844, '\n",
      " '1.1033978462219238, 0.646893322467804, 0.04635380581021309, '\n",
      " '0.7701341509819031, -0.2708803713321686, 0.617526113986969, '\n",
      " '1.437685251235962, -1.0559568405151367], [-0.7639071941375732, '\n",
      " '-0.16440702974796295, -0.23462910950183868, -0.40433448553085327, '\n",
      " '0.44294434785842896, -0.1271151304244995, 0.10048075020313263, '\n",
      " '0.09910881519317627, 0.7061432600021362, 0.4147971570491791, '\n",
      " '-1.2173278331756592, 1.3012162446975708, 1.9694225788116455], '\n",
      " '[-1.0822316408157349, -1.0249876976013184, -2.188617706298828, '\n",
      " '1.1725949048995972, -0.6591370701789856, 2.2091450691223145, '\n",
      " '-0.5418163537979126, -0.06939897686243057, -1.5737669467926025, '\n",
      " '0.13562442362308502, -1.1350492238998413, -1.2746832370758057, '\n",
      " '-0.2672140300273895], [-0.5159693956375122, 0.9064526557922363, '\n",
      " '-0.39284881949424744, 0.9509462714195251, 2.2060015201568604, '\n",
      " '-0.4565514922142029, 1.2607477903366089, -0.2262783795595169, '\n",
      " '-0.3299752175807953, -0.04225785285234451, 0.17189939320087433, '\n",
      " '-0.34815752506256104, 0.0794588252902031], [-0.807224690914154, '\n",
      " '0.1980600357055664, -0.3212429881095886, 0.0842977836728096, '\n",
      " '-1.0982285737991333, -0.5048515796661377, 0.1877155750989914, '\n",
      " '1.2738316059112549, 1.619431495666504, -0.3177017867565155, '\n",
      " '0.5114446878433228, 0.25080958008766174, -0.2816406786441803], '\n",
      " '[-0.9460088014602661, -0.6334331631660461, -1.882521629333496, '\n",
      " '-1.2400060892105103, 0.4142760634422302, -1.0998023748397827, '\n",
      " '1.5794744491577148, 0.28854382038116455, 0.9035630226135254, '\n",
      " '-0.7836532592773438, 1.509946584701538, 0.8672124147415161, '\n",
      " '1.02536141872406], [-0.9700976610183716, 0.40401580929756165, '\n",
      " '-1.0992072820663452, 0.7819545269012451, -0.48283812403678894, '\n",
      " '0.7787837982177734, 0.6252767443656921, 0.1409226506948471, '\n",
      " '-0.11080075800418854, 0.8882261514663696, -0.4405917227268219, '\n",
      " '-0.6305971741676331, 0.044211048632860184], [0.08723008632659912, '\n",
      " '1.270430088043213, 0.8901538848876953, 1.3527940511703491, '\n",
      " '-0.7129050493240356, -0.24009329080581665, -0.517681360244751, '\n",
      " '0.8342790603637695, 0.5252553820610046, 0.5115710496902466, '\n",
      " '1.041278600692749, 0.7011469006538391, -1.3984441757202148], '\n",
      " '[1.4981589317321777, 0.061552971601486206, -0.6737104058265686, '\n",
      " '-0.7968419790267944, -1.724340558052063, -0.2936050593852997, '\n",
      " '-0.6011145114898682, -1.23049795627594, 0.6661596894264221, '\n",
      " '0.9522227048873901, -0.60655677318573, 1.632635235786438, '\n",
      " '0.889710545539856], [-0.40127336978912354, -2.1764097213745117, '\n",
      " '1.3393338918685913, 2.3939898014068604, 0.6726246476173401, '\n",
      " '0.7803683280944824, -2.1750075817108154, 0.9955642819404602, '\n",
      " '2.203815460205078, -0.5599024295806885, 0.6190231442451477, '\n",
      " '-0.4176902174949646, 0.05185306444764137], [-0.44002240896224976, '\n",
      " '-0.03838835656642914, 0.5127783417701721, -0.5312374830245972, '\n",
      " '-0.24313105642795563, 0.302406907081604, -0.12136297672986984, '\n",
      " '0.27491769194602966, 1.5323985815048218, -1.05116868019104, '\n",
      " '-0.12328766286373138, -0.6564241051673889, -1.8261765241622925], '\n",
      " '[0.6307432055473328, -1.6893084049224854, -0.07740437984466553, '\n",
      " '0.42285218834877014, 0.9328605532646179, -1.253853678703308, '\n",
      " '1.5532609224319458, 0.20983034372329712, 1.1300534009933472, '\n",
      " '-1.6093367338180542, -1.443052053451538, 0.9852728843688965, '\n",
      " '2.2954649925231934]], \"biases\": [-0.34391483664512634, 0.07612752169370651, '\n",
      " '1.2369685173034668, 0.22290538251399994, 0.3096950650215149, '\n",
      " '0.9175629019737244, 1.8916921615600586, 0.16335265338420868, '\n",
      " '-0.1846226304769516, 1.9519330263137817, 1.531895637512207, '\n",
      " '-0.28829362988471985, 1.1214442253112793]}], \"output\": {\"weights\": '\n",
      " '[[0.15703779458999634, -0.7766746282577515, 0.8245320320129395], '\n",
      " '[0.5697582364082336, 0.18849311769008636, -0.5760006904602051], '\n",
      " '[-1.2901792526245117, -1.191649317741394, 0.9315549731254578], '\n",
      " '[-1.2186763286590576, 0.024807563051581383, -0.8924738168716431], '\n",
      " '[0.9617360234260559, -0.11410622298717499, 0.3461304008960724], '\n",
      " '[-1.15513277053833, 0.5574844479560852, 0.1511567085981369], '\n",
      " '[0.27431586384773254, -0.3434990346431732, 0.06748578697443008], '\n",
      " '[0.23862357437610626, 1.7309881448745728, -0.6493005752563477], '\n",
      " '[0.714810848236084, -0.3872939646244049, -0.2606680989265442], '\n",
      " '[-1.5829594135284424, -0.2122596651315689, 0.8522334694862366], '\n",
      " '[-0.04686596617102623, 3.0115175247192383, -1.4661191701889038], '\n",
      " '[0.0052293650805950165, -1.8938093185424805, 1.6024624109268188], '\n",
      " '[-1.1785781383514404, -0.7708922028541565, -0.8576357960700989]], \"biases\": '\n",
      " '[0.6917219758033752, 0.6500377655029297, 0.03168119117617607]}}')\n"
     ]
    }
   ],
   "source": [
    "pprint(tf_json)"
   ]
  },
  {
   "cell_type": "code",
   "execution_count": 136,
   "metadata": {
    "scrolled": false
   },
   "outputs": [
    {
     "ename": "AttributeError",
     "evalue": "'list' object has no attribute 'eval'",
     "output_type": "error",
     "traceback": [
      "\u001b[0;31m---------------------------------------------------------------------------\u001b[0m",
      "\u001b[0;31mAttributeError\u001b[0m                            Traceback (most recent call last)",
      "\u001b[0;32m<ipython-input-136-7d03a660ac3d>\u001b[0m in \u001b[0;36m<module>\u001b[0;34m\u001b[0m\n\u001b[1;32m      1\u001b[0m \u001b[0mneural_network_model\u001b[0m \u001b[0;34m=\u001b[0m \u001b[0mTfAnn\u001b[0m\u001b[0;34m(\u001b[0m\u001b[0;34m)\u001b[0m\u001b[0;34m\u001b[0m\u001b[0;34m\u001b[0m\u001b[0m\n\u001b[1;32m      2\u001b[0m \u001b[0mneural_network_model\u001b[0m\u001b[0;34m.\u001b[0m\u001b[0minit_json\u001b[0m\u001b[0;34m(\u001b[0m\u001b[0mtf_json\u001b[0m\u001b[0;34m)\u001b[0m\u001b[0;34m\u001b[0m\u001b[0;34m\u001b[0m\u001b[0m\n\u001b[0;32m----> 3\u001b[0;31m \u001b[0mpprint\u001b[0m\u001b[0;34m(\u001b[0m\u001b[0mneural_network_model\u001b[0m\u001b[0;34m.\u001b[0m\u001b[0mextract\u001b[0m\u001b[0;34m(\u001b[0m\u001b[0;34m)\u001b[0m\u001b[0;34m)\u001b[0m\u001b[0;34m\u001b[0m\u001b[0;34m\u001b[0m\u001b[0m\n\u001b[0m\u001b[1;32m      4\u001b[0m \u001b[0;31m#x_data_train = train_x\u001b[0m\u001b[0;34m\u001b[0m\u001b[0;34m\u001b[0m\u001b[0;34m\u001b[0m\u001b[0m\n\u001b[1;32m      5\u001b[0m \u001b[0;31m#y_data_train = train_y\u001b[0m\u001b[0;34m\u001b[0m\u001b[0;34m\u001b[0m\u001b[0;34m\u001b[0m\u001b[0m\n",
      "\u001b[0;32m<ipython-input-128-bb3261d5893d>\u001b[0m in \u001b[0;36mextract\u001b[0;34m(self)\u001b[0m\n\u001b[1;32m     46\u001b[0m     \u001b[0;32mdef\u001b[0m \u001b[0mextract\u001b[0m\u001b[0;34m(\u001b[0m\u001b[0mself\u001b[0m\u001b[0;34m)\u001b[0m\u001b[0;34m:\u001b[0m\u001b[0;34m\u001b[0m\u001b[0;34m\u001b[0m\u001b[0m\n\u001b[1;32m     47\u001b[0m         \u001b[0;32mfor\u001b[0m \u001b[0mi\u001b[0m \u001b[0;32min\u001b[0m \u001b[0mrange\u001b[0m\u001b[0;34m(\u001b[0m\u001b[0mself\u001b[0m\u001b[0;34m.\u001b[0m\u001b[0mn_hiden_layers\u001b[0m\u001b[0;34m)\u001b[0m\u001b[0;34m:\u001b[0m\u001b[0;34m\u001b[0m\u001b[0;34m\u001b[0m\u001b[0m\n\u001b[0;32m---> 48\u001b[0;31m             \u001b[0mself\u001b[0m\u001b[0;34m.\u001b[0m\u001b[0mnp_hidden\u001b[0m\u001b[0;34m[\u001b[0m\u001b[0mi\u001b[0m\u001b[0;34m]\u001b[0m\u001b[0;34m[\u001b[0m\u001b[0;34m\"weights\"\u001b[0m\u001b[0;34m]\u001b[0m \u001b[0;34m=\u001b[0m \u001b[0mneural_network_model\u001b[0m\u001b[0;34m.\u001b[0m\u001b[0mhidden\u001b[0m\u001b[0;34m[\u001b[0m\u001b[0mi\u001b[0m\u001b[0;34m]\u001b[0m\u001b[0;34m[\u001b[0m\u001b[0;34m\"weights\"\u001b[0m\u001b[0;34m]\u001b[0m\u001b[0;34m.\u001b[0m\u001b[0meval\u001b[0m\u001b[0;34m(\u001b[0m\u001b[0;34m)\u001b[0m\u001b[0;34m.\u001b[0m\u001b[0mtolist\u001b[0m\u001b[0;34m(\u001b[0m\u001b[0;34m)\u001b[0m\u001b[0;34m\u001b[0m\u001b[0;34m\u001b[0m\u001b[0m\n\u001b[0m\u001b[1;32m     49\u001b[0m             \u001b[0mself\u001b[0m\u001b[0;34m.\u001b[0m\u001b[0mnp_hidden\u001b[0m\u001b[0;34m[\u001b[0m\u001b[0mi\u001b[0m\u001b[0;34m]\u001b[0m\u001b[0;34m[\u001b[0m\u001b[0;34m\"biases\"\u001b[0m\u001b[0;34m]\u001b[0m \u001b[0;34m=\u001b[0m \u001b[0mneural_network_model\u001b[0m\u001b[0;34m.\u001b[0m\u001b[0mhidden\u001b[0m\u001b[0;34m[\u001b[0m\u001b[0mi\u001b[0m\u001b[0;34m]\u001b[0m\u001b[0;34m[\u001b[0m\u001b[0;34m\"biases\"\u001b[0m\u001b[0;34m]\u001b[0m\u001b[0;34m.\u001b[0m\u001b[0meval\u001b[0m\u001b[0;34m(\u001b[0m\u001b[0;34m)\u001b[0m\u001b[0;34m.\u001b[0m\u001b[0mtolist\u001b[0m\u001b[0;34m(\u001b[0m\u001b[0;34m)\u001b[0m\u001b[0;34m\u001b[0m\u001b[0;34m\u001b[0m\u001b[0m\n\u001b[1;32m     50\u001b[0m         \u001b[0mself\u001b[0m\u001b[0;34m.\u001b[0m\u001b[0mnp_output_layer\u001b[0m\u001b[0;34m[\u001b[0m\u001b[0;34m\"weights\"\u001b[0m\u001b[0;34m]\u001b[0m \u001b[0;34m=\u001b[0m \u001b[0mneural_network_model\u001b[0m\u001b[0;34m.\u001b[0m\u001b[0moutput_layer\u001b[0m\u001b[0;34m[\u001b[0m\u001b[0;34m\"weights\"\u001b[0m\u001b[0;34m]\u001b[0m\u001b[0;34m.\u001b[0m\u001b[0meval\u001b[0m\u001b[0;34m(\u001b[0m\u001b[0;34m)\u001b[0m\u001b[0;34m.\u001b[0m\u001b[0mtolist\u001b[0m\u001b[0;34m(\u001b[0m\u001b[0;34m)\u001b[0m\u001b[0;34m\u001b[0m\u001b[0;34m\u001b[0m\u001b[0m\n",
      "\u001b[0;31mAttributeError\u001b[0m: 'list' object has no attribute 'eval'"
     ]
    }
   ],
   "source": [
    "neural_network_model = TfAnn()\n",
    "neural_network_model.init_json(tf_json)\n",
    "pprint(neural_network_model.extract())\n",
    "#x_data_train = train_x\n",
    "#y_data_train = train_y\n",
    "#x_data_test = train_x\n",
    "#y_data_test = train_y\n",
    "#cf,loss = train_neural_network_interactive(neural_network_model,x_data_train,y_data_train,x_data_test,y_data_test)\n",
    "#pprint(cf)\n",
    "#plt.plot(loss)\n",
    "#plt.show()"
   ]
  },
  {
   "cell_type": "code",
   "execution_count": null,
   "metadata": {},
   "outputs": [],
   "source": []
  }
 ],
 "metadata": {
  "kernelspec": {
   "display_name": "Python 3",
   "language": "python",
   "name": "python3"
  },
  "language_info": {
   "codemirror_mode": {
    "name": "ipython",
    "version": 3
   },
   "file_extension": ".py",
   "mimetype": "text/x-python",
   "name": "python",
   "nbconvert_exporter": "python",
   "pygments_lexer": "ipython3",
   "version": "3.6.7"
  }
 },
 "nbformat": 4,
 "nbformat_minor": 2
}
