{
 "cells": [
  {
   "cell_type": "markdown",
   "metadata": {},
   "source": [
    "Load data for network from file"
   ]
  },
  {
   "cell_type": "code",
   "execution_count": 1,
   "metadata": {},
   "outputs": [],
   "source": [
    "import tensorflow as tf\n",
    "from sklearn.metrics import confusion_matrix\n",
    "from pprint import pprint\n",
    "from tensorflow.examples.tutorials.mnist import input_data\n",
    "import numpy as np\n",
    "import matplotlib.pyplot as plt\n",
    "import json\n",
    "%matplotlib inline\n",
    "sess = tf.InteractiveSession()\n",
    "    "
   ]
  },
  {
   "cell_type": "code",
   "execution_count": 2,
   "metadata": {},
   "outputs": [],
   "source": [
    "wine = np.genfromtxt(\"datasets/wine/wine_train_array.csv\", delimiter=',')\n",
    "wine_test = np.genfromtxt(\"datasets/wine/wine_test_array.csv\", delimiter=',')"
   ]
  },
  {
   "cell_type": "code",
   "execution_count": 3,
   "metadata": {},
   "outputs": [
    {
     "data": {
      "text/plain": [
       "array([0.59210526, 0.17786561, 0.79569892, 0.25257732, 0.43478261,\n",
       "       0.55862069, 0.68823529, 0.42      , 0.29746835, 0.28327645,\n",
       "       0.49593496, 0.56981132, 0.48666128, 1.        , 0.        ,\n",
       "       0.        ])"
      ]
     },
     "execution_count": 3,
     "metadata": {},
     "output_type": "execute_result"
    }
   ],
   "source": [
    "wine[0]"
   ]
  },
  {
   "cell_type": "code",
   "execution_count": 4,
   "metadata": {},
   "outputs": [],
   "source": [
    "X = wine[:,:-3]\n",
    "Y = wine[:,-3:]\n",
    "X_t = wine_test[:,:-3]\n",
    "Y_t = wine_test[:,-3:]\n"
   ]
  },
  {
   "cell_type": "code",
   "execution_count": 5,
   "metadata": {},
   "outputs": [
    {
     "data": {
      "text/plain": [
       "array([0.59210526, 0.17786561, 0.79569892, 0.25257732, 0.43478261,\n",
       "       0.55862069, 0.68823529, 0.42      , 0.29746835, 0.28327645,\n",
       "       0.49593496, 0.56981132, 0.48666128])"
      ]
     },
     "execution_count": 5,
     "metadata": {},
     "output_type": "execute_result"
    }
   ],
   "source": [
    "X[0]"
   ]
  },
  {
   "cell_type": "code",
   "execution_count": 6,
   "metadata": {},
   "outputs": [
    {
     "data": {
      "text/plain": [
       "array([1., 0., 0.])"
      ]
     },
     "execution_count": 6,
     "metadata": {},
     "output_type": "execute_result"
    }
   ],
   "source": [
    "Y[0]"
   ]
  },
  {
   "cell_type": "code",
   "execution_count": 7,
   "metadata": {},
   "outputs": [],
   "source": [
    "#train_x,train_y,test_x,test_y = create_feature_sets_and_labels('Data/pos.txt','Data/neg.txt')\n",
    "train_x = X\n",
    "train_y = Y\n",
    "\n",
    "test_x = X_t\n",
    "test_y = Y_t\n",
    "\n"
   ]
  },
  {
   "cell_type": "code",
   "execution_count": 8,
   "metadata": {},
   "outputs": [],
   "source": [
    "class TfAnn(object):\n",
    "    \n",
    "    def __init__(self):\n",
    "        self.hidden=[]\n",
    "        self.np_hidden=[]\n",
    "        \n",
    "        self.n_nodes=[]\n",
    "        self.n_classes = 0\n",
    "        self.n_hiden_layers = 0\n",
    "\n",
    "    \n",
    "    def init_empty(self,layers,n_classes,size):\n",
    "        self.n_classes = n_classes\n",
    "        self.n_hiden_layers = len(layers)\n",
    "        for i in range(self.n_hiden_layers):\n",
    "            self.hidden.append({'weights':[],'biases':[]})\n",
    "            self.np_hidden.append({'weights':[],'biases':[]})\n",
    "            self.n_nodes.append(layers[i])\n",
    "        self.output_layer = {'weights':[],'biases':[]}\n",
    "        self.np_output_layer={\"weights\":[],\"biases\":[]}\n",
    "\n",
    "        for i in range(self.n_hiden_layers):\n",
    "            self.hidden[i] = {'weights':tf.Variable(tf.random_normal([size, self.n_nodes[i]])),\n",
    "                      'biases':tf.Variable(tf.random_normal([self.n_nodes[i]]))}\n",
    "            \n",
    "        self.output_layer = {'weights':tf.Variable(tf.random_normal([self.n_nodes[-1], self.n_classes])),\n",
    "                        'biases':tf.Variable(tf.random_normal([self.n_classes]))}\n",
    "\n",
    "\n",
    "    def init_json(self,tf_json):\n",
    "        tf_data = json.loads(tf_json)\n",
    "        self.n_classes = tf_data[\"n_classes\"]\n",
    "        self.n_hiden_layers = tf_data[\"n_hiden_layers\"]\n",
    "        self.hidden =tf_data[\"hidden\"]\n",
    "        self.output_layer =tf_data[\"output\"]\n",
    "\n",
    "\n",
    "    def create(self,data):\n",
    "        # This is the heart of the ann where multiply the data by the wights to the layers \n",
    "        for i in range(self.n_hiden_layers):\n",
    "            layer = tf.add(tf.matmul(data,self.hidden[i]['weights']), self.hidden[i]['biases'])\n",
    "            layer= tf.nn.relu(layer)\n",
    "        output =  tf.add(tf.matmul(layer,self.output_layer['weights']) , self.output_layer['biases'])\n",
    "        return output\n",
    "    \n",
    "    def extract(self):\n",
    "        for i in range(self.n_hiden_layers):\n",
    "            self.np_hidden[i][\"weights\"] = neural_network_model.hidden[i][\"weights\"].eval().tolist()\n",
    "            self.np_hidden[i][\"biases\"] = neural_network_model.hidden[i][\"biases\"].eval().tolist()\n",
    "        self.np_output_layer[\"weights\"] = neural_network_model.output_layer[\"weights\"].eval().tolist()\n",
    "        self.np_output_layer[\"biases\"] = neural_network_model.output_layer[\"biases\"].eval().tolist()\n",
    "        return json.dumps({\"n_classes\":self.n_classes,\"n_hiden_layers\":self.n_hiden_layers ,\"hidden\":self.np_hidden,\"output\":self.np_output_layer}, ensure_ascii=False)\n",
    "        \n",
    "        "
   ]
  },
  {
   "cell_type": "code",
   "execution_count": 9,
   "metadata": {},
   "outputs": [],
   "source": [
    "def train_neural_network_interactive(neural_network_model,x_data_train,y_data_train,x_data_test,y_data_test):\n",
    "    x = tf.placeholder('float')\n",
    "    y = tf.placeholder('float')\n",
    "    prediction = neural_network_model.create(x)\n",
    "    cost = tf.reduce_mean( tf.nn.softmax_cross_entropy_with_logits(logits=prediction, labels=y) )\n",
    "    optimizer = tf.train.AdamOptimizer().minimize(cost)\n",
    "    hm_epochs = 2500\n",
    "    init = tf.initialize_all_variables()\n",
    "    sess.run(init)\n",
    "    losses=[]\n",
    "    for epoch in range(hm_epochs):\n",
    "            _, c = sess.run([optimizer, cost], feed_dict={x:x_data_train,\n",
    "                                                          y:y_data_train})\n",
    "            losses.append(c)\n",
    "    cf = test_neural_network(neural_network_model,x_data_test,y_data_test)\n",
    "    return cf,losses\n",
    "   "
   ]
  },
  {
   "cell_type": "code",
   "execution_count": 10,
   "metadata": {},
   "outputs": [],
   "source": [
    "def test_neural_network(neural_network_model,x_data_test,y_data_test):\n",
    "    x = tf.placeholder('float')\n",
    "    prediction = neural_network_model.create(x)    \n",
    "    y_test_res=(sess.run(prediction,feed_dict={x:x_data_test}))       \n",
    "    true_class=np.argmax(y_data_test,1)\n",
    "    predicted_class=np.argmax(y_test_res,1)\n",
    "    cm = confusion_matrix(predicted_class,true_class)\n",
    "    cm = cm.astype('float')*10000 / cm.sum(axis=1)[:, np.newaxis]\n",
    "    cm = np.nan_to_num(cm, copy=True)\n",
    "    cm = cm.astype('int')\n",
    "    return cm*0.01"
   ]
  },
  {
   "cell_type": "code",
   "execution_count": 11,
   "metadata": {},
   "outputs": [],
   "source": [
    "from sklearn.model_selection import StratifiedKFold\n",
    "train_index=[]\n",
    "test_index=[]\n",
    "splits =5\n",
    "skf = StratifiedKFold(n_splits=splits,random_state=0,shuffle=True)\n",
    "for train_idx, test_idx in skf.split(train_x,train_y[:,0]):               \n",
    "    train_index.append(train_idx)\n",
    "    test_index.append(test_idx)"
   ]
  },
  {
   "cell_type": "code",
   "execution_count": 12,
   "metadata": {},
   "outputs": [],
   "source": [
    "import seaborn as sns\n",
    "def plot_confusion_matrix(cm, classes, title,classifier_name):\n",
    "    plt.rcParams.update({'font.size': 18})\n",
    "    fig,ax= plt.subplots(figsize=(5,4))\n",
    "    sns.set(font_scale=1.5)\n",
    "    sns_plot = sns.heatmap(cm, annot=True, ax = ax, cmap=\"Blues\"); #annot=True to annotate cells\n",
    "    # labels, title and ticks\n",
    "    ax.set_xlabel('Predicted labels');ax.set_ylabel('True labels'); \n",
    "    ax.set_title(title); \n",
    "    ax.xaxis.set_ticklabels(classes); ax.yaxis.set_ticklabels(classes);"
   ]
  },
  {
   "cell_type": "code",
   "execution_count": 13,
   "metadata": {
    "scrolled": false
   },
   "outputs": [
    {
     "name": "stdout",
     "output_type": "stream",
     "text": [
      "WARNING:tensorflow:From <ipython-input-9-078066250d91>:5: softmax_cross_entropy_with_logits (from tensorflow.python.ops.nn_ops) is deprecated and will be removed in a future version.\n",
      "Instructions for updating:\n",
      "\n",
      "Future major versions of TensorFlow will allow gradients to flow\n",
      "into the labels input on backprop by default.\n",
      "\n",
      "See `tf.nn.softmax_cross_entropy_with_logits_v2`.\n",
      "\n",
      "WARNING:tensorflow:From /home/ric/Projects/Hull/HOMLWSLTF/env/lib/python3.6/site-packages/tensorflow/python/util/tf_should_use.py:189: initialize_all_variables (from tensorflow.python.ops.variables) is deprecated and will be removed after 2017-03-02.\n",
      "Instructions for updating:\n",
      "Use `tf.global_variables_initializer` instead.\n",
      "array([[ 90.  ,   0.  ,  10.  ],\n",
      "       [  7.69,  92.3 ,   0.  ],\n",
      "       [  0.  ,   0.  , 100.  ]])\n"
     ]
    },
    {
     "data": {
      "image/png": "[encoded data removed]",
      "text/plain": [
       "<Figure size 432x288 with 1 Axes>"
      ]
     },
     "metadata": {
      "needs_background": "light"
     },
     "output_type": "display_data"
    },
    {
     "name": "stdout",
     "output_type": "stream",
     "text": [
      "array([[100.,   0.,   0.],\n",
      "       [  0., 100.,   0.],\n",
      "       [  0.,   0., 100.]])\n"
     ]
    },
    {
     "data": {
      "image/png": "[encoded data removed]",
      "text/plain": [
       "<Figure size 432x288 with 1 Axes>"
      ]
     },
     "metadata": {
      "needs_background": "light"
     },
     "output_type": "display_data"
    },
    {
     "name": "stdout",
     "output_type": "stream",
     "text": [
      "array([[90.  ,  0.  , 10.  ],\n",
      "       [ 0.  , 91.66,  8.33],\n",
      "       [ 0.  , 33.33, 66.66]])\n"
     ]
    },
    {
     "data": {
      "image/png": "[encoded data removed]",
      "text/plain": [
       "<Figure size 432x288 with 1 Axes>"
      ]
     },
     "metadata": {
      "needs_background": "light"
     },
     "output_type": "display_data"
    },
    {
     "name": "stdout",
     "output_type": "stream",
     "text": [
      "array([[ 90.,  10.,   0.],\n",
      "       [  0., 100.,   0.],\n",
      "       [  0.,   0., 100.]])\n"
     ]
    },
    {
     "data": {
      "image/png": "[encoded data removed]",
      "text/plain": [
       "<Figure size 432x288 with 1 Axes>"
      ]
     },
     "metadata": {
      "needs_background": "light"
     },
     "output_type": "display_data"
    },
    {
     "name": "stdout",
     "output_type": "stream",
     "text": [
      "array([[ 90.,  10.,   0.],\n",
      "       [  0., 100.,   0.],\n",
      "       [  0.,   0., 100.]])\n"
     ]
    },
    {
     "data": {
      "image/png": "[encoded data removed]",
      "text/plain": [
       "<Figure size 432x288 with 1 Axes>"
      ]
     },
     "metadata": {
      "needs_background": "light"
     },
     "output_type": "display_data"
    },
    {
     "name": "stdout",
     "output_type": "stream",
     "text": [
      "array([[92.   ,  4.   ,  4.   ],\n",
      "       [ 1.538, 96.792,  1.666],\n",
      "       [ 0.   ,  6.666, 93.332]])\n"
     ]
    }
   ],
   "source": [
    "av_cf = np.empty([3,3,0])\n",
    "for fold in range(splits):\n",
    "    neural_network_model = TfAnn()\n",
    "    neural_network_model.init_empty([13,6],len(train_y[0]),len(train_x[0]))\n",
    "    x_data_train = train_x[train_index[fold]]\n",
    "    y_data_train = train_y[train_index[fold]] \n",
    "    x_data_test = train_x[test_index[fold]]\n",
    "    y_data_test = train_y[test_index[fold]]\n",
    "    cf,loss = train_neural_network_interactive(neural_network_model,x_data_train,y_data_train,x_data_test,y_data_test)\n",
    "    av_cf = np.dstack([av_cf,cf])\n",
    "    pprint( cf)\n",
    "    #plot_confusion_matrix(cf,[1,2,3],\"Cf matrix\",\"wine\")\n",
    "    plt.plot(loss)\n",
    "    plt.show()\n",
    "pprint(av_cf.mean(axis=2))"
   ]
  },
  {
   "cell_type": "code",
   "execution_count": 167,
   "metadata": {},
   "outputs": [
    {
     "name": "stdout",
     "output_type": "stream",
     "text": [
      "array([[100.,   0.,   0.],\n",
      "       [  0., 100.,   0.],\n",
      "       [  0.,   0., 100.]])\n"
     ]
    },
    {
     "data": {
      "image/png": "[encoded data removed]",
      "text/plain": [
       "<Figure size 360x288 with 2 Axes>"
      ]
     },
     "metadata": {},
     "output_type": "display_data"
    }
   ],
   "source": [
    "neural_network_model = TfAnn()\n",
    "neural_network_model.init_empty([13,6],len(train_y[0]),len(train_x[0]))\n",
    "x_data_train = train_x\n",
    "y_data_train = train_y\n",
    "x_data_test = train_x\n",
    "y_data_test = train_y\n",
    "cf,loss = train_neural_network_interactive(neural_network_model,x_data_train,y_data_train,x_data_test,y_data_test)\n",
    "pprint(cf)\n",
    "plot_confusion_matrix(cf,[1,2,3],\"Cf matrix\",\"wine\")\n",
    "plt.plot(loss)\n",
    "plt.show()"
   ]
  },
  {
   "cell_type": "code",
   "execution_count": 168,
   "metadata": {},
   "outputs": [],
   "source": [
    "tf_json = neural_network_model.extract()"
   ]
  },
  {
   "cell_type": "code",
   "execution_count": 169,
   "metadata": {},
   "outputs": [
    {
     "name": "stdout",
     "output_type": "stream",
     "text": [
      "('{\"n_classes\": 3, \"n_hiden_layers\": 2, \"hidden\": [{\"weights\": '\n",
      " '[[3.2011561393737793, -0.7531359791755676, -0.4829103648662567, '\n",
      " '-0.6212006211280823, -0.24564331769943237, 0.05392329767346382, '\n",
      " '0.6616443991661072, 0.8394348621368408, -0.2179415374994278, '\n",
      " '-1.0951902866363525, 1.266553282737732, 1.2120903730392456, '\n",
      " '-0.44938039779663086], [-1.5158650875091553, -0.24158717691898346, '\n",
      " '1.4661997556686401, 0.21096834540367126, 0.9112161993980408, '\n",
      " '1.514867901802063, -0.24224989116191864, 0.5869039297103882, '\n",
      " '-0.44910022616386414, 0.4643579125404358, -2.0254077911376953, '\n",
      " '0.7885514497756958, -1.4757707118988037], [-0.9478054642677307, '\n",
      " '-0.5695460438728333, -0.5223478674888611, -1.9654022455215454, '\n",
      " '0.3046714961528778, -0.8195757269859314, -2.161827802658081, '\n",
      " '-1.480160117149353, -0.17490501701831818, 0.8177843689918518, '\n",
      " '-1.1306862831115723, -1.915065884590149, -0.6283437609672546], '\n",
      " '[1.3348424434661865, -0.2063630074262619, -0.03783615306019783, '\n",
      " '-0.8640248775482178, 0.0648004338145256, 0.16489920020103455, '\n",
      " '0.44034966826438904, 1.7879953384399414, -1.7815706729888916, '\n",
      " '-2.254376173019409, -0.5019877552986145, -0.03887709975242615, '\n",
      " '0.652205765247345], [-0.5676941275596619, 0.5082364082336426, '\n",
      " '-0.8924819231033325, 0.1664423644542694, -0.27646324038505554, '\n",
      " '-0.18780069053173065, 1.0802947282791138, 2.10679030418396, '\n",
      " '-0.30301371216773987, 0.9162753820419312, 0.7932020425796509, '\n",
      " '0.17851580679416656, 2.8701589107513428], [2.2169041633605957, '\n",
      " '-0.376015305519104, 0.5936340093612671, 0.18346013128757477, '\n",
      " '0.1616642326116562, -0.18545250594615936, 0.02348237857222557, '\n",
      " '-0.238867849111557, -0.5630714297294617, -0.8720278739929199, '\n",
      " '-0.9654992818832397, 0.020360806956887245, -0.3223041892051697], '\n",
      " '[-0.8437040448188782, -0.8279275298118591, 0.4600513279438019, '\n",
      " '-1.514034628868103, 0.49460986256599426, -0.4293634593486786, '\n",
      " '-0.1217392310500145, 0.005887641105800867, 0.28005123138427734, '\n",
      " '-0.1223711371421814, -1.4741864204406738, 0.2093876600265503, '\n",
      " '0.24617861211299896], [-0.5694742798805237, -2.27077317237854, '\n",
      " '-2.8492684364318848, -0.2707802355289459, 0.6006821393966675, '\n",
      " '1.7278989553451538, -0.5454313158988953, 0.03560875356197357, '\n",
      " '1.2798861265182495, 0.4395042061805725, -2.0644137859344482, '\n",
      " '0.6587561368942261, 0.792349636554718], [-1.8331445455551147, '\n",
      " '1.1483430862426758, -0.40748995542526245, -0.20663118362426758, '\n",
      " '0.30435964465141296, -0.5860205888748169, 0.638895571231842, '\n",
      " '-0.5917906165122986, -1.431910514831543, -1.0893595218658447, '\n",
      " '-0.308579683303833, 0.008198932744562626, -1.933642864227295], '\n",
      " '[1.0373406410217285, -0.32677143812179565, -1.0437625646591187, '\n",
      " '0.6222442388534546, -0.28572019934654236, 0.5899387001991272, '\n",
      " '-0.817418098449707, -0.4031335115432739, 1.8887181282043457, '\n",
      " '1.5247383117675781, 0.868567943572998, 0.44741082191467285, '\n",
      " '-1.328359842300415], [-2.0626368522644043, -0.27278751134872437, '\n",
      " '-2.7247254848480225, -0.4502120316028595, 0.6677418351173401, '\n",
      " '-1.0415544509887695, 0.7566468715667725, -0.21412555873394012, '\n",
      " '0.45690813660621643, 0.9314204454421997, 1.815477728843689, '\n",
      " '-0.9924918413162231, 0.5582652688026428], [0.33219239115715027, '\n",
      " '-0.15377646684646606, 1.0728323459625244, 0.9201231598854065, '\n",
      " '1.0325374603271484, -0.5932040214538574, 0.8122899532318115, '\n",
      " '1.0629143714904785, -0.07667172700166702, -0.3120419979095459, '\n",
      " '-1.1869697570800781, -0.7280256152153015, -0.44659534096717834], '\n",
      " '[-1.5225486755371094, 2.347554922103882, 0.2644883096218109, '\n",
      " '0.12482830137014389, -0.967325747013092, 0.5609434843063354, '\n",
      " '-0.7820175290107727, 0.8654894232749939, 0.5376747250556946, '\n",
      " '-1.0285850763320923, -0.0886831134557724, 0.4500027894973755, '\n",
      " '-0.609097421169281]], \"biases\": [-2.589186429977417, -1.1177513599395752, '\n",
      " '0.550799548625946, 0.28218135237693787, 0.506604790687561, '\n",
      " '0.14765049517154694, 0.5608483552932739, -1.283565640449524, '\n",
      " '-0.262970894575119, -1.8972307443618774, -1.1310962438583374, '\n",
      " '-1.012152910232544, -0.8209620714187622]}, {\"weights\": '\n",
      " '[[-0.2668171525001526, -2.315016269683838, 0.5032691955566406, '\n",
      " '2.4123950004577637, -2.190265655517578, 0.13960108160972595], '\n",
      " '[-0.060639020055532455, -0.30061596632003784, 0.45615196228027344, '\n",
      " '0.7607864141464233, 0.2616364359855652, -1.1823621988296509], '\n",
      " '[0.669748842716217, 0.9000639915466309, 1.661049485206604, '\n",
      " '2.147195816040039, -0.46693336963653564, -0.7681371569633484], '\n",
      " '[0.6599658131599426, 1.248072862625122, 1.1566840410232544, '\n",
      " '-1.9391939640045166, -0.9224038124084473, -0.23700885474681854], '\n",
      " '[-1.3703714609146118, -0.25562480092048645, -0.461533784866333, '\n",
      " '0.5031431317329407, 0.5615969896316528, 1.724591851234436], '\n",
      " '[0.6379397511482239, -1.6365528106689453, -1.0870211124420166, '\n",
      " '0.62413090467453, -0.4394257962703705, 0.3382841944694519], '\n",
      " '[-1.4399914741516113, -0.6588625907897949, 0.2273366004228592, '\n",
      " '-0.04263554513454437, -1.4769333600997925, 1.4996060132980347], '\n",
      " '[0.5121254324913025, -1.3173043727874756, -1.3431808948516846, '\n",
      " '0.5230676531791687, 0.7357450723648071, 0.9262630343437195], '\n",
      " '[-0.24560664594173431, -0.7348015308380127, -0.05489351600408554, '\n",
      " '0.17814604938030243, 0.7599150538444519, 1.147112488746643], '\n",
      " '[2.242382287979126, -0.5922027826309204, 0.9148348569869995, '\n",
      " '2.8495702743530273, 0.8021672964096069, -2.074040174484253], '\n",
      " '[0.17357826232910156, 1.069570779800415, -0.23116044700145721, '\n",
      " '-0.8291592597961426, 1.2291042804718018, -1.1464594602584839], '\n",
      " '[-0.8053938746452332, -1.2239946126937866, -0.4722447395324707, '\n",
      " '0.7563930749893188, -0.19244857132434845, 1.2138144969940186], '\n",
      " '[-1.9641660451889038, -1.9175219535827637, -2.9958231449127197, '\n",
      " '1.513484001159668, 1.301094651222229, -1.8058490753173828]], \"biases\": '\n",
      " '[1.513527512550354, 0.7353338003158569, 1.3827742338180542, '\n",
      " '-2.0769577026367188, -0.7249212861061096, 1.2537633180618286]}], \"output\": '\n",
      " '{\"weights\": [[-1.254498839378357, 1.7712111473083496, 2.3617656230926514], '\n",
      " '[-0.6698676943778992, -0.5867595672607422, 0.4059937596321106], '\n",
      " '[-1.3323826789855957, -1.330049753189087, -0.4899507761001587], '\n",
      " '[1.0122721195220947, -1.9552457332611084, -0.011098318733274937], '\n",
      " '[-1.5031063556671143, -0.011587698012590408, 0.35317662358283997], '\n",
      " '[-0.4660544991493225, 1.4020076990127563, -3.624098300933838]], \"biases\": '\n",
      " '[0.4102446734905243, 0.6335688233375549, 1.4518234729766846]}}')\n"
     ]
    }
   ],
   "source": [
    "pprint(tf_json)"
   ]
  },
  {
   "cell_type": "code",
   "execution_count": 170,
   "metadata": {
    "scrolled": false
   },
   "outputs": [
    {
     "name": "stdout",
     "output_type": "stream",
     "text": [
      "array([[100.,   0.,   0.],\n",
      "       [  0., 100.,   0.],\n",
      "       [  0.,   0., 100.]])\n"
     ]
    }
   ],
   "source": [
    "neural_network_model = TfAnn()\n",
    "neural_network_model.init_json(tf_json)\n",
    "x_data_test = train_x\n",
    "y_data_test = train_y\n",
    "pprint(test_neural_network(neural_network_model,x_data_test,y_data_test))\n"
   ]
  },
  {
   "cell_type": "code",
   "execution_count": 171,
   "metadata": {},
   "outputs": [
    {
     "name": "stdout",
     "output_type": "stream",
     "text": [
      "array([[100. ,   0. ,   0. ],\n",
      "       [  0. ,  87.5,  12.5],\n",
      "       [  0. ,   0. , 100. ]])\n"
     ]
    },
    {
     "data": {
      "image/png": "[encoded data removed]",
      "text/plain": [
       "<Figure size 360x288 with 2 Axes>"
      ]
     },
     "metadata": {},
     "output_type": "display_data"
    }
   ],
   "source": [
    "neural_network_model = TfAnn()\n",
    "neural_network_model.init_json(tf_json)\n",
    "x_data_test = train_x\n",
    "y_data_test = train_y\n",
    "cf = test_neural_network(neural_network_model,test_x,test_y)\n",
    "pprint(test_neural_network(neural_network_model,test_x,test_y))\n",
    "plot_confusion_matrix(cf,[1,2,3],\"Cf matrix\",\"wine\")"
   ]
  },
  {
   "cell_type": "code",
   "execution_count": null,
   "metadata": {},
   "outputs": [],
   "source": []
  }
 ],
 "metadata": {
  "kernelspec": {
   "display_name": "Python 3",
   "language": "python",
   "name": "python3"
  },
  "language_info": {
   "codemirror_mode": {
    "name": "ipython",
    "version": 3
   },
   "file_extension": ".py",
   "mimetype": "text/x-python",
   "name": "python",
   "nbconvert_exporter": "python",
   "pygments_lexer": "ipython3",
   "version": "3.6.7"
  }
 },
 "nbformat": 4,
 "nbformat_minor": 2
}
