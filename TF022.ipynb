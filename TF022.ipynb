{
 "cells": [
  {
   "cell_type": "markdown",
   "metadata": {},
   "source": [
    "Load data for network from file"
   ]
  },
  {
   "cell_type": "code",
   "execution_count": 1,
   "metadata": {},
   "outputs": [],
   "source": [
    "import tensorflow as tf\n",
    "from sklearn.metrics import confusion_matrix\n",
    "from pprint import pprint\n",
    "from tensorflow.examples.tutorials.mnist import input_data\n",
    "import numpy as np\n",
    "import matplotlib.pyplot as plt\n",
    "import json\n",
    "%matplotlib inline\n"
   ]
  },
  {
   "cell_type": "code",
   "execution_count": 2,
   "metadata": {},
   "outputs": [],
   "source": [
    "wine = np.genfromtxt(\"datasets/wine/wine_train_array.csv\", delimiter=',')\n"
   ]
  },
  {
   "cell_type": "code",
   "execution_count": 3,
   "metadata": {},
   "outputs": [
    {
     "data": {
      "text/plain": [
       "array([0.59210526, 0.17786561, 0.79569892, 0.25257732, 0.43478261,\n",
       "       0.55862069, 0.68823529, 0.42      , 0.29746835, 0.28327645,\n",
       "       0.49593496, 0.56981132, 0.48666128, 1.        , 0.        ,\n",
       "       0.        ])"
      ]
     },
     "execution_count": 3,
     "metadata": {},
     "output_type": "execute_result"
    }
   ],
   "source": [
    "wine[0]"
   ]
  },
  {
   "cell_type": "code",
   "execution_count": 4,
   "metadata": {},
   "outputs": [],
   "source": [
    "X = wine[:,:-3]\n",
    "Y = wine[:,-3:]"
   ]
  },
  {
   "cell_type": "code",
   "execution_count": 5,
   "metadata": {},
   "outputs": [
    {
     "data": {
      "text/plain": [
       "array([0.59210526, 0.17786561, 0.79569892, 0.25257732, 0.43478261,\n",
       "       0.55862069, 0.68823529, 0.42      , 0.29746835, 0.28327645,\n",
       "       0.49593496, 0.56981132, 0.48666128])"
      ]
     },
     "execution_count": 5,
     "metadata": {},
     "output_type": "execute_result"
    }
   ],
   "source": [
    "X[0]"
   ]
  },
  {
   "cell_type": "code",
   "execution_count": 6,
   "metadata": {},
   "outputs": [
    {
     "data": {
      "text/plain": [
       "array([1., 0., 0.])"
      ]
     },
     "execution_count": 6,
     "metadata": {},
     "output_type": "execute_result"
    }
   ],
   "source": [
    "Y[0]"
   ]
  },
  {
   "cell_type": "code",
   "execution_count": 7,
   "metadata": {},
   "outputs": [],
   "source": [
    "#train_x,train_y,test_x,test_y = create_feature_sets_and_labels('Data/pos.txt','Data/neg.txt')\n",
    "train_x = X\n",
    "train_y = Y\n",
    "\n"
   ]
  },
  {
   "cell_type": "code",
   "execution_count": 8,
   "metadata": {},
   "outputs": [],
   "source": [
    "class TfAnn(object):\n",
    "    \n",
    "    def __init__(self,layers,n_classes):\n",
    "        self.hidden=[]\n",
    "        self.np_hidden=[]\n",
    "        \n",
    "        self.n_nodes=[]\n",
    "        self.n_classes = n_classes\n",
    "        self.n_hiden_layers = len(layers)\n",
    "        for i in range(self.n_hiden_layers):\n",
    "            self.hidden.append({'weights':[],'biases':[]})\n",
    "            self.np_hidden.append({'weights':[],'biases':[]})\n",
    "            self.n_nodes.append(layers[i])\n",
    "        self.output_layer = {'weights':[],'biases':[]}\n",
    "        self.np_output_layer={\"weights\":[],\"biases\":[]}\n",
    "    \n",
    "    def init_empty(self,size):\n",
    "        for i in range(self.n_hiden_layers):\n",
    "            self.hidden[i] = {'weights':tf.Variable(tf.random_normal([size, self.n_nodes[i]])),\n",
    "                      'biases':tf.Variable(tf.random_normal([self.n_nodes[i]]))}\n",
    "            \n",
    "        self.output_layer = {'weights':tf.Variable(tf.random_normal([self.n_nodes[-1], self.n_classes])),\n",
    "                        'biases':tf.Variable(tf.random_normal([self.n_classes]))}\n",
    "\n",
    "\n",
    "#    def init_values(self,size,l1_weights,l2_weights,l3_weights,out_weights,l1_biases,l2_biases,l3_biases,out_biases):\n",
    "#        self.hidden_1_layer = {'weights':tf.Variable(l1_weights),'biases':tf.Variable(l1_biases)}\n",
    "#        self.hidden_2_layer = {'weights':tf.Variable(l2_weights),'biases':tf.Variable(l2_biases)}\n",
    "#        self.output_layer = {'weights':tf.Variable(out_weights),'biases':tf.Variable(out_biases)}\n",
    "\n",
    "\n",
    "    def create(self,data):\n",
    "        # This is the heart of the ann where multiply the data by the wights to the layers \n",
    "        for i in range(self.n_hiden_layers):\n",
    "            layer = tf.add(tf.matmul(data,self.hidden[i]['weights']), self.hidden[i]['biases'])\n",
    "            layer= tf.nn.relu(layer)\n",
    "        output =  tf.add(tf.matmul(layer,self.output_layer['weights']) , self.output_layer['biases'])\n",
    "        return output\n",
    "    \n",
    "    def extract(self):\n",
    "        for i in range(self.n_hiden_layers):\n",
    "            self.np_hidden[i][\"weights\"] = neural_network_model.hidden[i][\"weights\"].eval()\n",
    "            self.np_hidden[i][\"biases\"] = neural_network_model.hidden[i][\"biases\"].eval()\n",
    "        self.np_output_layer[\"weights\"] = neural_network_model.output_layer[\"weights\"].eval()\n",
    "        self.np_output_layer[\"biases\"] = neural_network_model.output_layer[\"biases\"].eval()\n",
    "        return json.dumps({\"hidden\":self.np_hidden,\"output\":self.np_output_layer}, ensure_ascii=False)\n",
    "        \n",
    "        "
   ]
  },
  {
   "cell_type": "code",
   "execution_count": 9,
   "metadata": {},
   "outputs": [],
   "source": [
    "def train_neural_network_interactive(neural_network_model,fold):\n",
    "    x= tf.placeholder('float')\n",
    "    y = tf.placeholder('float')\n",
    "    prediction = neural_network_model.create(x)\n",
    "    cost = tf.reduce_mean( tf.nn.softmax_cross_entropy_with_logits(logits=prediction, labels=y) )\n",
    "    optimizer = tf.train.AdamOptimizer().minimize(cost)\n",
    "    hm_epochs = 2500\n",
    "    sess = tf.InteractiveSession()\n",
    "    init = tf.initialize_all_variables()\n",
    "    sess.run(init)\n",
    "    losses=[]\n",
    "    for epoch in range(hm_epochs):\n",
    "            _, c = sess.run([optimizer, cost], feed_dict={x: train_x[train_index[fold]],\n",
    "                                                          y: train_y[train_index[fold]]})\n",
    "            losses.append(c)\n",
    "\n",
    "    y_test=(sess.run(prediction,feed_dict={\n",
    "                             x: train_x[test_index[fold]]\n",
    "                              }))       \n",
    "    \n",
    "    true_class=np.argmax(train_y[test_index[fold]],1)\n",
    "    predicted_class=np.argmax(y_test,1)\n",
    "    return confusion_matrix(predicted_class,true_class),losses\n",
    "   "
   ]
  },
  {
   "cell_type": "code",
   "execution_count": 10,
   "metadata": {},
   "outputs": [],
   "source": [
    "from sklearn.model_selection import StratifiedKFold\n",
    "train_index=[]\n",
    "test_index=[]\n",
    "splits =5\n",
    "skf = StratifiedKFold(n_splits=splits,random_state=0,shuffle=True)\n",
    "for train_idx, test_idx in skf.split(train_x,train_y[:,0]):               \n",
    "    train_index.append(train_idx)\n",
    "    test_index.append(test_idx)"
   ]
  },
  {
   "cell_type": "code",
   "execution_count": 11,
   "metadata": {
    "scrolled": false
   },
   "outputs": [
    {
     "name": "stdout",
     "output_type": "stream",
     "text": [
      "WARNING:tensorflow:From <ipython-input-9-332ada421d91>:5: softmax_cross_entropy_with_logits (from tensorflow.python.ops.nn_ops) is deprecated and will be removed in a future version.\n",
      "Instructions for updating:\n",
      "\n",
      "Future major versions of TensorFlow will allow gradients to flow\n",
      "into the labels input on backprop by default.\n",
      "\n",
      "See `tf.nn.softmax_cross_entropy_with_logits_v2`.\n",
      "\n",
      "WARNING:tensorflow:From /home/ric/Projects/Hull/HOMLWSLTF/env/lib/python3.6/site-packages/tensorflow/python/util/tf_should_use.py:189: initialize_all_variables (from tensorflow.python.ops.variables) is deprecated and will be removed after 2017-03-02.\n",
      "Instructions for updating:\n",
      "Use `tf.global_variables_initializer` instead.\n",
      "array([[ 9,  0,  1],\n",
      "       [ 1, 12,  0],\n",
      "       [ 0,  0,  6]])\n"
     ]
    },
    {
     "data": {
      "image/png": "[encoded data removed]",
      "text/plain": [
       "<Figure size 432x288 with 1 Axes>"
      ]
     },
     "metadata": {
      "needs_background": "light"
     },
     "output_type": "display_data"
    },
    {
     "name": "stderr",
     "output_type": "stream",
     "text": [
      "/home/ric/Projects/Hull/HOMLWSLTF/env/lib/python3.6/site-packages/tensorflow/python/client/session.py:1702: UserWarning: An interactive session is already active. This can cause out-of-memory errors in some cases. You must explicitly call `InteractiveSession.close()` to release resources held by the other session(s).\n",
      "  warnings.warn('An interactive session is already active. This can '\n"
     ]
    },
    {
     "name": "stdout",
     "output_type": "stream",
     "text": [
      "array([[10,  0,  0],\n",
      "       [ 0,  8,  0],\n",
      "       [ 0,  0, 11]])\n"
     ]
    },
    {
     "data": {
      "image/png": "[encoded data removed]",
      "text/plain": [
       "<Figure size 432x288 with 1 Axes>"
      ]
     },
     "metadata": {
      "needs_background": "light"
     },
     "output_type": "display_data"
    },
    {
     "name": "stdout",
     "output_type": "stream",
     "text": [
      "array([[ 9,  0,  0],\n",
      "       [ 0, 12,  0],\n",
      "       [ 0,  1,  6]])\n"
     ]
    },
    {
     "data": {
      "image/png": "[encoded data removed]",
      "text/plain": [
       "<Figure size 432x288 with 1 Axes>"
      ]
     },
     "metadata": {
      "needs_background": "light"
     },
     "output_type": "display_data"
    },
    {
     "name": "stdout",
     "output_type": "stream",
     "text": [
      "array([[9, 2, 0],\n",
      "       [0, 9, 0],\n",
      "       [0, 0, 8]])\n"
     ]
    },
    {
     "data": {
      "image/png": "[encoded data removed]",
      "text/plain": [
       "<Figure size 432x288 with 1 Axes>"
      ]
     },
     "metadata": {
      "needs_background": "light"
     },
     "output_type": "display_data"
    },
    {
     "name": "stdout",
     "output_type": "stream",
     "text": [
      "array([[ 9,  0,  0],\n",
      "       [ 0, 13,  0],\n",
      "       [ 0,  0,  6]])\n"
     ]
    },
    {
     "data": {
      "image/png": "[encoded data removed]",
      "text/plain": [
       "<Figure size 432x288 with 1 Axes>"
      ]
     },
     "metadata": {
      "needs_background": "light"
     },
     "output_type": "display_data"
    }
   ],
   "source": [
    "for i in range(splits):\n",
    "    neural_network_model = TfAnn([13],len(train_y[0]))\n",
    "    neural_network_model.init_empty(len(train_x[0]))\n",
    "    cf,loss = train_neural_network_interactive(neural_network_model,i)\n",
    "    pprint(cf)\n",
    "    plt.plot(loss)\n",
    "    plt.show()"
   ]
  },
  {
   "cell_type": "code",
   "execution_count": null,
   "metadata": {},
   "outputs": [],
   "source": []
  }
 ],
 "metadata": {
  "kernelspec": {
   "display_name": "Python 3",
   "language": "python",
   "name": "python3"
  },
  "language_info": {
   "codemirror_mode": {
    "name": "ipython",
    "version": 3
   },
   "file_extension": ".py",
   "mimetype": "text/x-python",
   "name": "python",
   "nbconvert_exporter": "python",
   "pygments_lexer": "ipython3",
   "version": "3.6.7"
  }
 },
 "nbformat": 4,
 "nbformat_minor": 2
}
