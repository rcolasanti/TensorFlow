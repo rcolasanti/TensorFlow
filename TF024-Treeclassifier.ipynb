{
 "cells": [
  {
   "cell_type": "code",
   "execution_count": 1,
   "metadata": {},
   "outputs": [],
   "source": [
    "import numpy as np\n",
    "import pandas as pd\n",
    "import matplotlib.pyplot as plt\n",
    "import seaborn; seaborn.set()\n",
    "import json\n",
    "from pprint import pprint\n",
    "from sklearn.metrics import confusion_matrix\n",
    "from sklearn.model_selection import StratifiedKFold\n",
    "import seaborn as sns\n",
    "%matplotlib inline"
   ]
  },
  {
   "cell_type": "code",
   "execution_count": 2,
   "metadata": {},
   "outputs": [],
   "source": [
    "with open(\"datasets/wine/wine_train.json\") as json_data:\n",
    "    dataset = json.load(json_data)"
   ]
  },
  {
   "cell_type": "code",
   "execution_count": 3,
   "metadata": {},
   "outputs": [],
   "source": [
    "class_list = list(set(dataset[\"target\"]))"
   ]
  },
  {
   "cell_type": "code",
   "execution_count": 4,
   "metadata": {},
   "outputs": [],
   "source": [
    "x_data = np.asarray(dataset[\"attribs\"])\n",
    "y_data = np.asarray(dataset[\"target\"])"
   ]
  },
  {
   "cell_type": "code",
   "execution_count": 5,
   "metadata": {},
   "outputs": [],
   "source": [
    "\n",
    "train_index=[]\n",
    "test_index=[]\n",
    "splits =10\n",
    "skf = StratifiedKFold(n_splits=splits,random_state=0,shuffle=True)\n",
    "for train_idx, test_idx in skf.split(x_data,y_data):               \n",
    "    train_index.append(train_idx)\n",
    "    test_index.append(test_idx)"
   ]
  },
  {
   "cell_type": "code",
   "execution_count": 6,
   "metadata": {},
   "outputs": [],
   "source": [
    "\n",
    "def plot_confusion_matrix(cm, classes, title,classifier_name):\n",
    "    plt.rcParams.update({'font.size': 18})\n",
    "    fig,ax= plt.subplots(figsize=(5,4))\n",
    "    sns.set(font_scale=1.5)\n",
    "    sns_plot = sns.heatmap(cm, annot=True, ax = ax, cmap=\"Blues\"); #annot=True to annotate cells\n",
    "    # labels, title and ticks\n",
    "    ax.set_xlabel('Predicted labels');ax.set_ylabel('True labels'); \n",
    "    ax.set_title(title); \n",
    "    ax.xaxis.set_ticklabels(classes); ax.yaxis.set_ticklabels(classes);\n",
    "    #fig.savefig(classifier_name+\".png\")"
   ]
  },
  {
   "cell_type": "code",
   "execution_count": 7,
   "metadata": {},
   "outputs": [],
   "source": [
    "\n",
    "def classiferTest(classifier,classifier_name,print_cfm,splits =5):\n",
    "    if print_cfm:\n",
    "        print(classifier_name)\n",
    "    train_score = np.zeros(splits)\n",
    "    validate_score = np.zeros(splits)\n",
    "    cm = np.zeros([3,3,splits])\n",
    "    for c in range(splits):\n",
    "        X_train = x_data[train_index[c]]\n",
    "        y_train = y_data[train_index[c]]\n",
    "        X_test = x_data[test_index[c]]\n",
    "        y_test = y_data[test_index[c]]\n",
    "        classifier.fit(X_train,y_train)\n",
    "        train_score[c] = classifier.score(X_train,y_train)\n",
    "        validate_score[c] = classifier.score(X_test,y_test)\n",
    "        y_pred = classifier.predict(X_test)\n",
    "        cm[:,:,c] = confusion_matrix(y_test, y_pred)\n",
    "    print(cm.mean(axis=2))\n",
    "    print(\"%6.3f\\t%6.3f\\t%6.3f\\t%6.3f\" % (np.average(train_score),np.std(train_score),np.average(validate_score),np.std(validate_score)))\n",
    "    cm = cm.astype('float')*10000 / cm.sum(axis=1)[:, np.newaxis]\n",
    "    cm = np.nan_to_num(cm, copy=True)\n",
    "    cm = cm.astype('int')\n",
    "    cm = cm.mean(axis=2)\n",
    "    return cm*0.01\n",
    "    "
   ]
  },
  {
   "cell_type": "code",
   "execution_count": 8,
   "metadata": {},
   "outputs": [],
   "source": [
    "def get_code(tree, feature_names, target_names,\n",
    "             spacer_base=\"    \"):\n",
    "    \"\"\"Produce psuedo-code for decision tree.\n",
    "    Notes\n",
    "    -----\n",
    "    based on http://stackoverflow.com/a/30104792.\n",
    "    \"\"\"\n",
    "    left      = tree.tree_.children_left\n",
    "    right     = tree.tree_.children_right\n",
    "    threshold = tree.tree_.threshold\n",
    "    features  = [feature_names[i] for i in tree.tree_.feature]\n",
    "    value = tree.tree_.value\n",
    "\n",
    "    def recurse(left, right, threshold, features, node, depth):\n",
    "        spacer = spacer_base * depth\n",
    "        if (threshold[node] != -2):\n",
    "            print(spacer + \"if ( \" + features[node] + \" <= \" + \\\n",
    "                  str(threshold[node]) + \" ) {\")\n",
    "            if left[node] != -1:\n",
    "                    recurse(left, right, threshold, features,\n",
    "                            left[node], depth+1)\n",
    "            print(spacer + \"}\\n\" + spacer +\"else {\")\n",
    "            if right[node] != -1:\n",
    "                    recurse(left, right, threshold, features,\n",
    "                            right[node], depth+1)\n",
    "            print(spacer + \"}\")\n",
    "        else:\n",
    "            target = value[node]\n",
    "            for i, v in zip(np.nonzero(target)[1],\n",
    "                            target[np.nonzero(target)]):\n",
    "                target_name = target_names[i]\n",
    "                target_count = int(v)\n",
    "                print(spacer + \"return \" + str(target_name) + \\\n",
    "                      \" ( \" + str(target_count) + \" examples )\")\n",
    "\n",
    "    recurse(left, right, threshold, features, 0, 0)\n"
   ]
  },
  {
   "cell_type": "code",
   "execution_count": 13,
   "metadata": {},
   "outputs": [
    {
     "name": "stdout",
     "output_type": "stream",
     "text": [
      "Metabolism-DecisionTreeClassifier-entropy-depth3\n",
      "[[4.6 0.4 0. ]\n",
      " [0.8 4.8 0.4]\n",
      " [0.2 0.  3.8]]\n",
      " 0.950\t 0.008\t 0.880\t 0.027\n"
     ]
    },
    {
     "data": {
      "image/png": "[encoded data removed]",
      "text/plain": [
       "<Figure size 360x288 with 2 Axes>"
      ]
     },
     "metadata": {},
     "output_type": "display_data"
    }
   ],
   "source": [
    "from sklearn.tree import DecisionTreeClassifier\n",
    "cf = classiferTest(DecisionTreeClassifier(random_state=0,max_depth=2, criterion='entropy'),\"Metabolism-DecisionTreeClassifier-entropy-depth3\",True)\n",
    "\n",
    "plot_confusion_matrix(cf,[1,2,3],\"Cf matrix\",\"wine\")"
   ]
  },
  {
   "cell_type": "code",
   "execution_count": 14,
   "metadata": {},
   "outputs": [
    {
     "name": "stdout",
     "output_type": "stream",
     "text": [
      "array([[11,  1,  0],\n",
      "       [ 0, 14,  0],\n",
      "       [ 0,  0, 10]])\n",
      "\n",
      "if ( Falvanoids <= 0.3632352948188782 ) {\n",
      "    if ( Color_intensity <= 0.21715017408132553 ) {\n",
      "        return 2 ( 12 examples )\n",
      "    }\n",
      "    else {\n",
      "        return 2 ( 1 examples )\n",
      "        return 3 ( 38 examples )\n",
      "    }\n",
      "}\n",
      "else {\n",
      "    if ( Proline <= 0.3609539121389389 ) {\n",
      "        return 1 ( 1 examples )\n",
      "        return 2 ( 40 examples )\n",
      "    }\n",
      "    else {\n",
      "        return 1 ( 46 examples )\n",
      "        return 2 ( 4 examples )\n",
      "    }\n",
      "}\n"
     ]
    },
    {
     "data": {
      "image/png": "[encoded data removed]",
      "text/plain": [
       "<Figure size 360x288 with 2 Axes>"
      ]
     },
     "metadata": {},
     "output_type": "display_data"
    }
   ],
   "source": [
    "with open(\"datasets/wine/wine_test.json\") as json_data:\n",
    "    dataset = json.load(json_data)\n",
    "x_test = np.asarray(dataset[\"attribs\"])\n",
    "y_test = np.asarray(dataset[\"target\"])\n",
    "classifier = DecisionTreeClassifier(random_state=0,max_depth=2, criterion='entropy')\n",
    "classifier.fit(x_data,y_data)\n",
    "train_score= classifier.score(x_data,y_data)\n",
    "y_pred = classifier.predict(x_test)\n",
    "cm = confusion_matrix(y_test, y_pred)\n",
    "pprint(cm)\n",
    "print()\n",
    "get_code(classifier,dataset[\"attribs_labels\"], class_list)\n",
    "cm = cm.astype('float')*10000 / cm.sum(axis=1)[:, np.newaxis]\n",
    "cm = np.nan_to_num(cm, copy=True)\n",
    "cm = cm.astype('int')\n",
    "cm= cm*0.01\n",
    "plot_confusion_matrix(cm,[1,2,3],\"Cf matrix\",\"wine\")"
   ]
  },
  {
   "cell_type": "code",
   "execution_count": null,
   "metadata": {},
   "outputs": [],
   "source": []
  },
  {
   "cell_type": "code",
   "execution_count": null,
   "metadata": {},
   "outputs": [],
   "source": []
  }
 ],
 "metadata": {
  "kernelspec": {
   "display_name": "Python 3",
   "language": "python",
   "name": "python3"
  },
  "language_info": {
   "codemirror_mode": {
    "name": "ipython",
    "version": 3
   },
   "file_extension": ".py",
   "mimetype": "text/x-python",
   "name": "python",
   "nbconvert_exporter": "python",
   "pygments_lexer": "ipython3",
   "version": "3.6.7"
  }
 },
 "nbformat": 4,
 "nbformat_minor": 2
}
