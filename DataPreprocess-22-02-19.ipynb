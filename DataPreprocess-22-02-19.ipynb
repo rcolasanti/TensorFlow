{
 "cells": [
  {
   "cell_type": "code",
   "execution_count": 25,
   "metadata": {},
   "outputs": [],
   "source": [
    "import numpy as np\n",
    "import pandas as pd\n",
    "import matplotlib.pyplot as plt\n",
    "import json\n",
    "from pprint import pprint\n",
    "\n",
    "%matplotlib inline"
   ]
  },
  {
   "cell_type": "code",
   "execution_count": 26,
   "metadata": {},
   "outputs": [
    {
     "data": {
      "text/html": [
       "<div>\n",
       "<style scoped>\n",
       "    .dataframe tbody tr th:only-of-type {\n",
       "        vertical-align: middle;\n",
       "    }\n",
       "\n",
       "    .dataframe tbody tr th {\n",
       "        vertical-align: top;\n",
       "    }\n",
       "\n",
       "    .dataframe thead th {\n",
       "        text-align: right;\n",
       "    }\n",
       "</style>\n",
       "<table border=\"1\" class=\"dataframe\">\n",
       "  <thead>\n",
       "    <tr style=\"text-align: right;\">\n",
       "      <th></th>\n",
       "      <th>Cultivator</th>\n",
       "      <th>Alchol</th>\n",
       "      <th>Malic_Acid</th>\n",
       "      <th>Ash</th>\n",
       "      <th>Alcalinity_of_Ash</th>\n",
       "      <th>Magnesium</th>\n",
       "      <th>Total_phenols</th>\n",
       "      <th>Falvanoids</th>\n",
       "      <th>Nonflavanoid_phenols</th>\n",
       "      <th>Proanthocyanins</th>\n",
       "      <th>Color_intensity</th>\n",
       "      <th>Hue</th>\n",
       "      <th>OD280</th>\n",
       "      <th>Proline</th>\n",
       "    </tr>\n",
       "  </thead>\n",
       "  <tbody>\n",
       "    <tr>\n",
       "      <th>0</th>\n",
       "      <td>3</td>\n",
       "      <td>13.11</td>\n",
       "      <td>1.90</td>\n",
       "      <td>2.75</td>\n",
       "      <td>25.5</td>\n",
       "      <td>116</td>\n",
       "      <td>2.20</td>\n",
       "      <td>1.28</td>\n",
       "      <td>0.26</td>\n",
       "      <td>1.56</td>\n",
       "      <td>7.10</td>\n",
       "      <td>0.61</td>\n",
       "      <td>1.33</td>\n",
       "      <td>425</td>\n",
       "    </tr>\n",
       "    <tr>\n",
       "      <th>1</th>\n",
       "      <td>2</td>\n",
       "      <td>12.37</td>\n",
       "      <td>0.94</td>\n",
       "      <td>1.36</td>\n",
       "      <td>10.6</td>\n",
       "      <td>88</td>\n",
       "      <td>1.98</td>\n",
       "      <td>0.57</td>\n",
       "      <td>0.28</td>\n",
       "      <td>0.42</td>\n",
       "      <td>1.95</td>\n",
       "      <td>1.05</td>\n",
       "      <td>1.82</td>\n",
       "      <td>520</td>\n",
       "    </tr>\n",
       "    <tr>\n",
       "      <th>2</th>\n",
       "      <td>2</td>\n",
       "      <td>12.17</td>\n",
       "      <td>1.45</td>\n",
       "      <td>2.53</td>\n",
       "      <td>19.0</td>\n",
       "      <td>104</td>\n",
       "      <td>1.89</td>\n",
       "      <td>1.75</td>\n",
       "      <td>0.45</td>\n",
       "      <td>1.03</td>\n",
       "      <td>2.95</td>\n",
       "      <td>1.45</td>\n",
       "      <td>2.23</td>\n",
       "      <td>355</td>\n",
       "    </tr>\n",
       "    <tr>\n",
       "      <th>3</th>\n",
       "      <td>2</td>\n",
       "      <td>12.77</td>\n",
       "      <td>3.43</td>\n",
       "      <td>1.98</td>\n",
       "      <td>16.0</td>\n",
       "      <td>80</td>\n",
       "      <td>1.63</td>\n",
       "      <td>1.25</td>\n",
       "      <td>0.43</td>\n",
       "      <td>0.83</td>\n",
       "      <td>3.40</td>\n",
       "      <td>0.70</td>\n",
       "      <td>2.12</td>\n",
       "      <td>372</td>\n",
       "    </tr>\n",
       "    <tr>\n",
       "      <th>4</th>\n",
       "      <td>3</td>\n",
       "      <td>13.71</td>\n",
       "      <td>5.65</td>\n",
       "      <td>2.45</td>\n",
       "      <td>20.5</td>\n",
       "      <td>95</td>\n",
       "      <td>1.68</td>\n",
       "      <td>0.61</td>\n",
       "      <td>0.52</td>\n",
       "      <td>1.06</td>\n",
       "      <td>7.70</td>\n",
       "      <td>0.64</td>\n",
       "      <td>1.74</td>\n",
       "      <td>740</td>\n",
       "    </tr>\n",
       "  </tbody>\n",
       "</table>\n",
       "</div>"
      ],
      "text/plain": [
       "   Cultivator  Alchol  Malic_Acid   Ash  Alcalinity_of_Ash  Magnesium  \\\n",
       "0           3   13.11        1.90  2.75               25.5        116   \n",
       "1           2   12.37        0.94  1.36               10.6         88   \n",
       "2           2   12.17        1.45  2.53               19.0        104   \n",
       "3           2   12.77        3.43  1.98               16.0         80   \n",
       "4           3   13.71        5.65  2.45               20.5         95   \n",
       "\n",
       "   Total_phenols  Falvanoids  Nonflavanoid_phenols  Proanthocyanins  \\\n",
       "0           2.20        1.28                  0.26             1.56   \n",
       "1           1.98        0.57                  0.28             0.42   \n",
       "2           1.89        1.75                  0.45             1.03   \n",
       "3           1.63        1.25                  0.43             0.83   \n",
       "4           1.68        0.61                  0.52             1.06   \n",
       "\n",
       "   Color_intensity   Hue  OD280  Proline  \n",
       "0             7.10  0.61   1.33      425  \n",
       "1             1.95  1.05   1.82      520  \n",
       "2             2.95  1.45   2.23      355  \n",
       "3             3.40  0.70   2.12      372  \n",
       "4             7.70  0.64   1.74      740  "
      ]
     },
     "execution_count": 26,
     "metadata": {},
     "output_type": "execute_result"
    }
   ],
   "source": [
    "full_data = pd.read_csv(\"datasets/wine/wine_train_7.csv\")\n",
    "#full_data = pd.read_csv(\"datasets/wine/wine_test_7.csv\")\n",
    "target = full_data[[\"Cultivator\"]]\n",
    "atributes = full_data.drop(\"Cultivator\", axis=1) # drop labels for training set\n",
    "full_data.head()"
   ]
  },
  {
   "cell_type": "code",
   "execution_count": 27,
   "metadata": {},
   "outputs": [
    {
     "data": {
      "text/html": [
       "<div>\n",
       "<style scoped>\n",
       "    .dataframe tbody tr th:only-of-type {\n",
       "        vertical-align: middle;\n",
       "    }\n",
       "\n",
       "    .dataframe tbody tr th {\n",
       "        vertical-align: top;\n",
       "    }\n",
       "\n",
       "    .dataframe thead th {\n",
       "        text-align: right;\n",
       "    }\n",
       "</style>\n",
       "<table border=\"1\" class=\"dataframe\">\n",
       "  <thead>\n",
       "    <tr style=\"text-align: right;\">\n",
       "      <th></th>\n",
       "      <th>Cultivator</th>\n",
       "    </tr>\n",
       "  </thead>\n",
       "  <tbody>\n",
       "    <tr>\n",
       "      <th>0</th>\n",
       "      <td>3</td>\n",
       "    </tr>\n",
       "    <tr>\n",
       "      <th>1</th>\n",
       "      <td>2</td>\n",
       "    </tr>\n",
       "    <tr>\n",
       "      <th>2</th>\n",
       "      <td>2</td>\n",
       "    </tr>\n",
       "    <tr>\n",
       "      <th>3</th>\n",
       "      <td>2</td>\n",
       "    </tr>\n",
       "    <tr>\n",
       "      <th>4</th>\n",
       "      <td>3</td>\n",
       "    </tr>\n",
       "  </tbody>\n",
       "</table>\n",
       "</div>"
      ],
      "text/plain": [
       "   Cultivator\n",
       "0           3\n",
       "1           2\n",
       "2           2\n",
       "3           2\n",
       "4           3"
      ]
     },
     "execution_count": 27,
     "metadata": {},
     "output_type": "execute_result"
    }
   ],
   "source": [
    "target.head()"
   ]
  },
  {
   "cell_type": "code",
   "execution_count": 28,
   "metadata": {},
   "outputs": [],
   "source": [
    "from sklearn.preprocessing import OneHotEncoder\n",
    "cat_encoder = OneHotEncoder(categories='auto')\n",
    "target_hot = cat_encoder.fit_transform(target).toarray()"
   ]
  },
  {
   "cell_type": "code",
   "execution_count": 29,
   "metadata": {},
   "outputs": [
    {
     "name": "stdout",
     "output_type": "stream",
     "text": [
      "array([3, 2, 2, 2, 3, 2, 3, 1, 1, 2, 2, 2, 2, 3, 1, 3, 1, 2, 1, 1, 2, 2,\n",
      "       3, 1, 2, 1, 1, 2, 2, 3, 2, 1, 1, 3, 2, 2, 1, 3, 2, 2, 1, 3, 1, 3,\n",
      "       2, 1, 3, 3, 2, 3, 1, 2, 2, 1, 3, 1, 1, 3, 2, 3, 1, 3, 2, 1, 3, 3,\n",
      "       1, 2, 3, 2, 2, 1, 3, 2, 2, 2, 1, 3, 2, 2, 2, 2, 2, 3, 3, 3, 2, 2,\n",
      "       3, 2, 1, 1, 1, 1, 1, 1, 1, 1, 3, 2, 2, 1, 3, 3, 3, 3, 2, 3, 1, 1,\n",
      "       1, 2, 3, 2, 2, 1, 2, 2, 2, 3, 1, 1, 1, 3, 2, 1, 2, 2, 2, 2, 2, 1,\n",
      "       1, 2, 1, 1, 3, 2, 1, 2, 1, 3])\n"
     ]
    }
   ],
   "source": [
    "#target = np.array(full_data[\"Cultivator\"].copy(),dtype=int)\n",
    "target = np.array(target[\"Cultivator\"],dtype=int)\n",
    "pprint(target)"
   ]
  },
  {
   "cell_type": "code",
   "execution_count": 30,
   "metadata": {},
   "outputs": [
    {
     "data": {
      "image/png": "[encoded data removed]",
      "text/plain": [
       "<Figure size 1440x1080 with 16 Axes>"
      ]
     },
     "metadata": {
      "needs_background": "light"
     },
     "output_type": "display_data"
    }
   ],
   "source": [
    "atributes.hist(bins=10, figsize=(20,15))\n",
    "plt.show()"
   ]
  },
  {
   "cell_type": "code",
   "execution_count": 31,
   "metadata": {},
   "outputs": [
    {
     "name": "stdout",
     "output_type": "stream",
     "text": [
      "['Alchol',\n",
      " 'Malic_Acid',\n",
      " 'Ash',\n",
      " 'Alcalinity_of_Ash',\n",
      " 'Magnesium',\n",
      " 'Total_phenols',\n",
      " 'Falvanoids',\n",
      " 'Nonflavanoid_phenols',\n",
      " 'Proanthocyanins',\n",
      " 'Color_intensity',\n",
      " 'Hue',\n",
      " 'OD280',\n",
      " 'Proline']\n"
     ]
    }
   ],
   "source": [
    "from sklearn.pipeline import Pipeline\n",
    "from sklearn.preprocessing import MinMaxScaler\n",
    "from sklearn.impute import SimpleImputer \n",
    "from sklearn.compose import ColumnTransformer\n",
    "from sklearn.preprocessing import OneHotEncoder\n",
    "\n",
    "attribs_labels = list(atributes)\n",
    "pprint(attribs_labels)\n",
    "\n",
    "# Replace any missing values with the median value\n",
    "# Nomalize all the data\n",
    "\n",
    "num_pipeline = Pipeline([\n",
    "        ('imputer', SimpleImputer(strategy=\"median\")),\n",
    "        ('nomalize', MinMaxScaler()),\n",
    "    ])\n",
    "\n",
    "\n",
    "full_pipeline = ColumnTransformer([\n",
    "        (\"num\", num_pipeline, attribs_labels),\n",
    "#        (\"cat\", OneHotEncoder(), cat_attribs),\n",
    "    ])\n",
    "\n"
   ]
  },
  {
   "cell_type": "code",
   "execution_count": 32,
   "metadata": {},
   "outputs": [],
   "source": [
    "attribs = full_pipeline.fit_transform(atributes)"
   ]
  },
  {
   "cell_type": "code",
   "execution_count": 33,
   "metadata": {},
   "outputs": [
    {
     "data": {
      "text/plain": [
       "array([[0.55913978, 0.22924901, 0.74331551, ..., 0.10569106, 0.02197802,\n",
       "        0.10485021],\n",
       "       [0.36021505, 0.03952569, 0.        , ..., 0.46341463, 0.2014652 ,\n",
       "        0.17261056],\n",
       "       [0.30645161, 0.14031621, 0.62566845, ..., 0.78861789, 0.35164835,\n",
       "        0.05492154],\n",
       "       ...,\n",
       "       [0.16935484, 0.22529644, 0.29946524, ..., 0.6097561 , 0.31868132,\n",
       "        0.10699001],\n",
       "       [0.75268817, 0.1798419 , 0.6631016 , ..., 0.61788618, 0.76923077,\n",
       "        0.70399429],\n",
       "       [0.76612903, 0.84980237, 0.46524064, ..., 0.08130081, 0.02197802,\n",
       "        0.09771755]])"
      ]
     },
     "execution_count": 33,
     "metadata": {},
     "output_type": "execute_result"
    }
   ],
   "source": [
    "attribs"
   ]
  },
  {
   "cell_type": "code",
   "execution_count": 34,
   "metadata": {},
   "outputs": [],
   "source": [
    "dataset = {\"attribs_labels\":attribs_labels,\"attribs\":attribs.tolist(),\"target\":target.tolist(),\"target_hot\":target_hot.tolist()}"
   ]
  },
  {
   "cell_type": "code",
   "execution_count": 35,
   "metadata": {},
   "outputs": [],
   "source": [
    "with open(\"datasets/wine/wine_train_7.json\",\"w\") as jout:\n",
    "#with open(\"datasets/wine/wine_test_7.json\",\"w\") as jout:\n",
    "    json.dump(dataset,jout)"
   ]
  },
  {
   "cell_type": "code",
   "execution_count": 36,
   "metadata": {},
   "outputs": [
    {
     "name": "stdout",
     "output_type": "stream",
     "text": [
      "[0.5591397849462365, 0.22924901185770755, 0.7433155080213903, 0.7680412371134022, 0.45238095238095244, 0.4803149606299213, 0.1983122362869198, 0.2452830188679245, 0.3627760252365931, 0.611344537815126, 0.10569105691056913, 0.02197802197802201, 0.1048502139800285] 3 [0.0, 0.0, 1.0]\n"
     ]
    }
   ],
   "source": [
    "print(dataset[\"attribs\"][0],dataset[\"target\"][0],dataset[\"target_hot\"][0])"
   ]
  },
  {
   "cell_type": "code",
   "execution_count": null,
   "metadata": {},
   "outputs": [],
   "source": []
  }
 ],
 "metadata": {
  "kernelspec": {
   "display_name": "Python 3",
   "language": "python",
   "name": "python3"
  },
  "language_info": {
   "codemirror_mode": {
    "name": "ipython",
    "version": 3
   },
   "file_extension": ".py",
   "mimetype": "text/x-python",
   "name": "python",
   "nbconvert_exporter": "python",
   "pygments_lexer": "ipython3",
   "version": "3.6.7"
  }
 },
 "nbformat": 4,
 "nbformat_minor": 2
}
