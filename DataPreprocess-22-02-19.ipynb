{
 "cells": [
  {
   "cell_type": "code",
   "execution_count": 122,
   "metadata": {},
   "outputs": [],
   "source": [
    "import numpy as np\n",
    "import pandas as pd\n",
    "import matplotlib.pyplot as plt\n",
    "import json\n",
    "from pprint import pprint\n",
    "\n",
    "%matplotlib inline"
   ]
  },
  {
   "cell_type": "code",
   "execution_count": 123,
   "metadata": {},
   "outputs": [
    {
     "data": {
      "text/html": [
       "<div>\n",
       "<style scoped>\n",
       "    .dataframe tbody tr th:only-of-type {\n",
       "        vertical-align: middle;\n",
       "    }\n",
       "\n",
       "    .dataframe tbody tr th {\n",
       "        vertical-align: top;\n",
       "    }\n",
       "\n",
       "    .dataframe thead th {\n",
       "        text-align: right;\n",
       "    }\n",
       "</style>\n",
       "<table border=\"1\" class=\"dataframe\">\n",
       "  <thead>\n",
       "    <tr style=\"text-align: right;\">\n",
       "      <th></th>\n",
       "      <th>Cultivator</th>\n",
       "      <th>Alchol</th>\n",
       "      <th>Malic_Acid</th>\n",
       "      <th>Ash</th>\n",
       "      <th>Alcalinity_of_Ash</th>\n",
       "      <th>Magnesium</th>\n",
       "      <th>Total_phenols</th>\n",
       "      <th>Falvanoids</th>\n",
       "      <th>Nonflavanoid_phenols</th>\n",
       "      <th>Proanthocyanins</th>\n",
       "      <th>Color_intensity</th>\n",
       "      <th>Hue</th>\n",
       "      <th>OD280</th>\n",
       "      <th>Proline</th>\n",
       "    </tr>\n",
       "  </thead>\n",
       "  <tbody>\n",
       "    <tr>\n",
       "      <th>0</th>\n",
       "      <td>1</td>\n",
       "      <td>14.10</td>\n",
       "      <td>2.16</td>\n",
       "      <td>2.30</td>\n",
       "      <td>18.0</td>\n",
       "      <td>105</td>\n",
       "      <td>2.95</td>\n",
       "      <td>3.32</td>\n",
       "      <td>0.22</td>\n",
       "      <td>2.38</td>\n",
       "      <td>5.75</td>\n",
       "      <td>1.25</td>\n",
       "      <td>3.17</td>\n",
       "      <td>1510</td>\n",
       "    </tr>\n",
       "    <tr>\n",
       "      <th>1</th>\n",
       "      <td>3</td>\n",
       "      <td>12.51</td>\n",
       "      <td>1.24</td>\n",
       "      <td>2.25</td>\n",
       "      <td>17.5</td>\n",
       "      <td>85</td>\n",
       "      <td>2.00</td>\n",
       "      <td>0.58</td>\n",
       "      <td>0.60</td>\n",
       "      <td>1.25</td>\n",
       "      <td>5.45</td>\n",
       "      <td>0.75</td>\n",
       "      <td>1.51</td>\n",
       "      <td>650</td>\n",
       "    </tr>\n",
       "    <tr>\n",
       "      <th>2</th>\n",
       "      <td>1</td>\n",
       "      <td>13.87</td>\n",
       "      <td>1.90</td>\n",
       "      <td>2.80</td>\n",
       "      <td>19.4</td>\n",
       "      <td>107</td>\n",
       "      <td>2.95</td>\n",
       "      <td>2.97</td>\n",
       "      <td>0.37</td>\n",
       "      <td>1.76</td>\n",
       "      <td>4.50</td>\n",
       "      <td>1.25</td>\n",
       "      <td>3.40</td>\n",
       "      <td>915</td>\n",
       "    </tr>\n",
       "    <tr>\n",
       "      <th>3</th>\n",
       "      <td>2</td>\n",
       "      <td>11.56</td>\n",
       "      <td>2.05</td>\n",
       "      <td>3.23</td>\n",
       "      <td>28.5</td>\n",
       "      <td>119</td>\n",
       "      <td>3.18</td>\n",
       "      <td>5.08</td>\n",
       "      <td>0.47</td>\n",
       "      <td>1.87</td>\n",
       "      <td>6.00</td>\n",
       "      <td>0.93</td>\n",
       "      <td>3.69</td>\n",
       "      <td>465</td>\n",
       "    </tr>\n",
       "    <tr>\n",
       "      <th>4</th>\n",
       "      <td>2</td>\n",
       "      <td>13.67</td>\n",
       "      <td>1.25</td>\n",
       "      <td>1.92</td>\n",
       "      <td>18.0</td>\n",
       "      <td>94</td>\n",
       "      <td>2.10</td>\n",
       "      <td>1.79</td>\n",
       "      <td>0.32</td>\n",
       "      <td>0.73</td>\n",
       "      <td>3.80</td>\n",
       "      <td>1.23</td>\n",
       "      <td>2.46</td>\n",
       "      <td>630</td>\n",
       "    </tr>\n",
       "  </tbody>\n",
       "</table>\n",
       "</div>"
      ],
      "text/plain": [
       "   Cultivator  Alchol  Malic_Acid   Ash  Alcalinity_of_Ash  Magnesium  \\\n",
       "0           1   14.10        2.16  2.30               18.0        105   \n",
       "1           3   12.51        1.24  2.25               17.5         85   \n",
       "2           1   13.87        1.90  2.80               19.4        107   \n",
       "3           2   11.56        2.05  3.23               28.5        119   \n",
       "4           2   13.67        1.25  1.92               18.0         94   \n",
       "\n",
       "   Total_phenols  Falvanoids  Nonflavanoid_phenols  Proanthocyanins  \\\n",
       "0           2.95        3.32                  0.22             2.38   \n",
       "1           2.00        0.58                  0.60             1.25   \n",
       "2           2.95        2.97                  0.37             1.76   \n",
       "3           3.18        5.08                  0.47             1.87   \n",
       "4           2.10        1.79                  0.32             0.73   \n",
       "\n",
       "   Color_intensity   Hue  OD280  Proline  \n",
       "0             5.75  1.25   3.17     1510  \n",
       "1             5.45  0.75   1.51      650  \n",
       "2             4.50  1.25   3.40      915  \n",
       "3             6.00  0.93   3.69      465  \n",
       "4             3.80  1.23   2.46      630  "
      ]
     },
     "execution_count": 123,
     "metadata": {},
     "output_type": "execute_result"
    }
   ],
   "source": [
    "#full_data = pd.read_csv(\"datasets/wine/wine_train.csv\")\n",
    "full_data = pd.read_csv(\"datasets/wine/wine_test.csv\")\n",
    "target = full_data[[\"Cultivator\"]]\n",
    "atributes = full_data.drop(\"Cultivator\", axis=1) # drop labels for training set\n",
    "full_data.head()"
   ]
  },
  {
   "cell_type": "code",
   "execution_count": 124,
   "metadata": {},
   "outputs": [
    {
     "data": {
      "text/html": [
       "<div>\n",
       "<style scoped>\n",
       "    .dataframe tbody tr th:only-of-type {\n",
       "        vertical-align: middle;\n",
       "    }\n",
       "\n",
       "    .dataframe tbody tr th {\n",
       "        vertical-align: top;\n",
       "    }\n",
       "\n",
       "    .dataframe thead th {\n",
       "        text-align: right;\n",
       "    }\n",
       "</style>\n",
       "<table border=\"1\" class=\"dataframe\">\n",
       "  <thead>\n",
       "    <tr style=\"text-align: right;\">\n",
       "      <th></th>\n",
       "      <th>Cultivator</th>\n",
       "    </tr>\n",
       "  </thead>\n",
       "  <tbody>\n",
       "    <tr>\n",
       "      <th>0</th>\n",
       "      <td>1</td>\n",
       "    </tr>\n",
       "    <tr>\n",
       "      <th>1</th>\n",
       "      <td>3</td>\n",
       "    </tr>\n",
       "    <tr>\n",
       "      <th>2</th>\n",
       "      <td>1</td>\n",
       "    </tr>\n",
       "    <tr>\n",
       "      <th>3</th>\n",
       "      <td>2</td>\n",
       "    </tr>\n",
       "    <tr>\n",
       "      <th>4</th>\n",
       "      <td>2</td>\n",
       "    </tr>\n",
       "  </tbody>\n",
       "</table>\n",
       "</div>"
      ],
      "text/plain": [
       "   Cultivator\n",
       "0           1\n",
       "1           3\n",
       "2           1\n",
       "3           2\n",
       "4           2"
      ]
     },
     "execution_count": 124,
     "metadata": {},
     "output_type": "execute_result"
    }
   ],
   "source": [
    "target.head()"
   ]
  },
  {
   "cell_type": "code",
   "execution_count": 125,
   "metadata": {},
   "outputs": [],
   "source": [
    "from sklearn.preprocessing import OneHotEncoder\n",
    "cat_encoder = OneHotEncoder(categories='auto')\n",
    "target_hot = cat_encoder.fit_transform(target).toarray()"
   ]
  },
  {
   "cell_type": "code",
   "execution_count": 126,
   "metadata": {},
   "outputs": [
    {
     "name": "stdout",
     "output_type": "stream",
     "text": [
      "array([1, 3, 1, 2, 2, 1, 1, 2, 2, 3, 2, 3, 1, 3, 1, 2, 2, 1, 2, 1, 2, 2,\n",
      "       1, 1, 2, 2, 1, 3, 2, 3, 1, 3, 2, 3, 3, 3])\n"
     ]
    }
   ],
   "source": [
    "#target = np.array(full_data[\"Cultivator\"].copy(),dtype=int)\n",
    "target = np.array(target[\"Cultivator\"],dtype=int)\n",
    "pprint(target)"
   ]
  },
  {
   "cell_type": "code",
   "execution_count": 127,
   "metadata": {},
   "outputs": [
    {
     "data": {
      "image/png": "[encoded data removed]",
      "text/plain": [
       "<Figure size 1440x1080 with 16 Axes>"
      ]
     },
     "metadata": {
      "needs_background": "light"
     },
     "output_type": "display_data"
    }
   ],
   "source": [
    "atributes.hist(bins=10, figsize=(20,15))\n",
    "plt.show()"
   ]
  },
  {
   "cell_type": "code",
   "execution_count": 128,
   "metadata": {},
   "outputs": [
    {
     "name": "stdout",
     "output_type": "stream",
     "text": [
      "['Alchol',\n",
      " 'Malic_Acid',\n",
      " 'Ash',\n",
      " 'Alcalinity_of_Ash',\n",
      " 'Magnesium',\n",
      " 'Total_phenols',\n",
      " 'Falvanoids',\n",
      " 'Nonflavanoid_phenols',\n",
      " 'Proanthocyanins',\n",
      " 'Color_intensity',\n",
      " 'Hue',\n",
      " 'OD280',\n",
      " 'Proline']\n"
     ]
    }
   ],
   "source": [
    "from sklearn.pipeline import Pipeline\n",
    "from sklearn.preprocessing import MinMaxScaler\n",
    "from sklearn.impute import SimpleImputer \n",
    "from sklearn.compose import ColumnTransformer\n",
    "from sklearn.preprocessing import OneHotEncoder\n",
    "\n",
    "attribs_labels = list(atributes)\n",
    "pprint(attribs_labels)\n",
    "\n",
    "# Replace any missing values with the median value\n",
    "# Nomalize all the data\n",
    "\n",
    "num_pipeline = Pipeline([\n",
    "        ('imputer', SimpleImputer(strategy=\"median\")),\n",
    "        ('nomalize', MinMaxScaler()),\n",
    "    ])\n",
    "\n",
    "\n",
    "full_pipeline = ColumnTransformer([\n",
    "        (\"num\", num_pipeline, attribs_labels),\n",
    "#        (\"cat\", OneHotEncoder(), cat_attribs),\n",
    "    ])\n",
    "\n"
   ]
  },
  {
   "cell_type": "code",
   "execution_count": 129,
   "metadata": {},
   "outputs": [],
   "source": [
    "attribs = full_pipeline.fit_transform(atributes)"
   ]
  },
  {
   "cell_type": "code",
   "execution_count": 130,
   "metadata": {},
   "outputs": [
    {
     "data": {
      "text/plain": [
       "array([[0.90070922, 0.24784483, 0.39215686, 0.36363636, 0.5625    ,\n",
       "        0.75949367, 0.60888889, 0.10204082, 0.77254902, 0.42203986,\n",
       "        0.76470588, 0.69372694, 0.87769784],\n",
       "       [0.33687943, 0.04956897, 0.35947712, 0.33333333, 0.14583333,\n",
       "        0.35864979, 0.        , 0.87755102, 0.32941176, 0.38686987,\n",
       "        0.17647059, 0.08118081, 0.25899281],\n",
       "       [0.81914894, 0.19181034, 0.71895425, 0.44848485, 0.60416667,\n",
       "        0.75949367, 0.53111111, 0.40816327, 0.52941176, 0.27549824,\n",
       "        0.76470588, 0.77859779, 0.44964029],\n",
       "       [0.        , 0.22413793, 1.        , 1.        , 0.85416667,\n",
       "        0.85654008, 1.        , 0.6122449 , 0.57254902, 0.45134818,\n",
       "        0.38823529, 0.88560886, 0.12589928],\n",
       "       [0.74822695, 0.05172414, 0.14379085, 0.36363636, 0.33333333,\n",
       "        0.40084388, 0.26888889, 0.30612245, 0.1254902 , 0.19343494,\n",
       "        0.74117647, 0.43173432, 0.24460432],\n",
       "       [0.80496454, 0.13793103, 0.58823529, 0.31515152, 0.33333333,\n",
       "        0.54852321, 0.53555556, 0.10204082, 0.7372549 , 0.40445487,\n",
       "        0.75294118, 0.76752768, 0.70143885],\n",
       "       [0.88652482, 0.24568966, 0.59477124, 0.33939394, 0.89583333,\n",
       "        0.61181435, 0.42888889, 0.28571429, 0.32941176, 0.33997655,\n",
       "        0.54117647, 0.84501845, 0.72302158],\n",
       "       [0.54964539, 0.        , 0.        , 0.18181818, 0.        ,\n",
       "        0.7721519 , 0.57777778, 0.18367347, 0.73333333, 0.36928488,\n",
       "        0.61176471, 0.69741697, 0.15251799],\n",
       "       [0.17021277, 0.70905172, 0.44444444, 0.60606061, 0.04166667,\n",
       "        0.40084388, 0.26      , 0.51020408, 0.36862745, 0.05275498,\n",
       "        0.22352941, 0.47232472, 0.20863309],\n",
       "       [0.67021277, 0.57974138, 0.58823529, 0.66666667, 0.6875    ,\n",
       "        0.23206751, 0.07555556, 0.53061224, 0.41176471, 1.        ,\n",
       "        0.29411765, 0.099631  , 0.29136691],\n",
       "       [0.27659574, 0.31034483, 0.49673203, 0.54545455, 0.41666667,\n",
       "        0.59493671, 0.34      , 0.34693878, 0.35294118, 0.07620164,\n",
       "        0.23529412, 0.77121771, 0.10647482],\n",
       "       [0.73049645, 0.84913793, 0.4248366 , 0.48484848, 0.29166667,\n",
       "        0.35864979, 0.04888889, 0.6122449 , 0.23921569, 0.26377491,\n",
       "        0.36470588, 0.2804428 , 0.18705036],\n",
       "       [0.82269504, 0.18965517, 0.58169935, 0.18181818, 0.47916667,\n",
       "        0.88607595, 0.66222222, 0.        , 0.50588235, 0.38452521,\n",
       "        0.32941176, 0.83763838, 0.57913669],\n",
       "       [0.46099291, 0.07327586, 0.40522876, 0.36363636, 0.91666667,\n",
       "        0.15189873, 0.14888889, 0.08163265, 0.20784314, 0.22860492,\n",
       "        0.18823529, 0.        , 0.24460432],\n",
       "       [1.        , 0.18534483, 0.44444444, 0.        , 0.5       ,\n",
       "        0.907173  , 0.68      , 0.24489796, 1.        , 0.62719812,\n",
       "        0.70588235, 0.63099631, 0.90431655],\n",
       "       [0.23404255, 0.06034483, 0.15686275, 0.42424242, 0.29166667,\n",
       "        0.51054852, 0.32444444, 0.44897959, 0.65490196, 0.06447831,\n",
       "        0.30588235, 0.63837638, 0.01582734],\n",
       "       [0.30496454, 0.33189655, 0.37254902, 0.60606061, 0.25      ,\n",
       "        0.22362869, 0.28      , 1.        , 0.39607843, 0.06447831,\n",
       "        0.30588235, 0.74169742, 0.01798561],\n",
       "       [0.88652482, 0.13362069, 0.37908497, 0.24242424, 1.        ,\n",
       "        0.78059072, 0.57555556, 0.14285714, 0.6627451 , 0.41031653,\n",
       "        0.57647059, 0.89298893, 0.35251799],\n",
       "       [0.18439716, 0.23060345, 0.        , 0.33333333, 0.39583333,\n",
       "        0.4556962 , 0.35333333, 0.18367347, 0.38823529, 0.13481829,\n",
       "        0.78823529, 0.61623616, 0.30215827],\n",
       "       [0.53546099, 0.10560345, 0.26143791, 0.21212121, 0.41666667,\n",
       "        0.52742616, 0.45777778, 0.2244898 , 0.37647059, 0.18171161,\n",
       "        0.68235294, 0.51660517, 0.52517986],\n",
       "       [0.25886525, 0.39224138, 0.33986928, 0.36363636, 0.20833333,\n",
       "        0.54852321, 0.37111111, 0.16326531, 0.61960784, 0.        ,\n",
       "        0.64705882, 0.74169742, 0.        ],\n",
       "       [0.27304965, 0.01939655, 0.37908497, 0.24242424, 0.47916667,\n",
       "        0.37974684, 0.11333333, 0.93877551, 0.        , 0.13130129,\n",
       "        0.76470588, 0.1402214 , 0.28057554],\n",
       "       [0.76241135, 0.18318966, 0.43137255, 0.27878788, 0.47916667,\n",
       "        0.61603376, 0.51111111, 0.20408163, 0.50196078, 0.19343494,\n",
       "        0.6       , 1.        , 0.53597122],\n",
       "       [0.93262411, 0.125     , 0.50980392, 0.27272727, 0.625     ,\n",
       "        0.907173  , 0.74444444, 0.30612245, 0.56862745, 0.76787808,\n",
       "        0.74117647, 0.56457565, 1.        ],\n",
       "       [0.28723404, 0.01293103, 0.26143791, 0.39393939, 0.20833333,\n",
       "        1.        , 0.70444444, 0.14285714, 0.60392157, 0.27549824,\n",
       "        0.51764706, 0.54612546, 0.26618705],\n",
       "       [0.21631206, 0.09482759, 0.54248366, 0.42424242, 0.54166667,\n",
       "        0.31223629, 0.26      , 0.57142857, 0.24313725, 0.09378664,\n",
       "        1.        , 0.34686347, 0.04676259],\n",
       "       [0.76595745, 0.09051724, 0.52287582, 0.28484848, 0.625     ,\n",
       "        0.94936709, 0.68666667, 0.04081633, 0.63921569, 0.54513482,\n",
       "        0.34117647, 0.58302583, 0.71582734],\n",
       "       [0.44326241, 0.28017241, 0.45751634, 0.72727273, 0.41666667,\n",
       "        0.        , 0.11333333, 0.20408163, 0.16470588, 0.41617819,\n",
       "        0.07058824, 0.02583026, 0.1942446 ],\n",
       "       [0.07092199, 0.35991379, 0.79738562, 0.48484848, 0.52083333,\n",
       "        0.25316456, 0.32222222, 0.87755102, 0.25098039, 0.19343494,\n",
       "        0.74117647, 0.44649446, 0.22805755],\n",
       "       [0.57092199, 0.90086207, 0.40522876, 0.60606061, 0.3125    ,\n",
       "        0.24894515, 0.01111111, 0.89795918, 0.44705882, 0.67409144,\n",
       "        0.        , 0.0701107 , 0.31294964],\n",
       "       [0.90070922, 0.21767241, 0.45751634, 0.41212121, 0.52083333,\n",
       "        0.67510549, 0.52      , 0.30612245, 0.77254902, 0.47479484,\n",
       "        0.55294118, 0.53874539, 0.55395683],\n",
       "       [0.57092199, 0.34051724, 0.4379085 , 0.48484848, 0.875     ,\n",
       "        0.21097046, 0.02222222, 0.73469388, 0.41176471, 0.83821805,\n",
       "        0.        , 0.12177122, 0.39568345],\n",
       "       [0.0212766 , 0.2112069 , 0.37908497, 0.36363636, 0.41666667,\n",
       "        0.78902954, 0.37333333, 0.        , 0.36862745, 0.12895662,\n",
       "        0.65882353, 0.61623616, 0.03956835],\n",
       "       [0.91134752, 0.66594828, 0.67973856, 0.75757576, 0.375     ,\n",
       "        0.37974684, 0.04      , 0.79591837, 0.36862745, 0.82649472,\n",
       "        0.01176471, 0.11439114, 0.1942446 ],\n",
       "       [0.78723404, 0.37715517, 0.39215686, 0.60606061, 0.25      ,\n",
       "        0.08438819, 0.02222222, 0.48979592, 0.24313725, 0.87104338,\n",
       "        0.11764706, 0.14391144, 0.23381295],\n",
       "       [0.76241135, 1.        , 0.49019608, 0.51515152, 0.35416667,\n",
       "        0.22362869, 0.00666667, 0.71428571, 0.25490196, 0.65064478,\n",
       "        0.04705882, 0.16605166, 0.32374101]])"
      ]
     },
     "execution_count": 130,
     "metadata": {},
     "output_type": "execute_result"
    }
   ],
   "source": [
    "attribs"
   ]
  },
  {
   "cell_type": "code",
   "execution_count": 131,
   "metadata": {},
   "outputs": [],
   "source": [
    "dataset = {\"attribs_labels\":attribs_labels,\"attribs\":attribs.tolist(),\"target\":target.tolist(),\"target_hot\":target_hot.tolist()}"
   ]
  },
  {
   "cell_type": "code",
   "execution_count": 132,
   "metadata": {},
   "outputs": [],
   "source": [
    "#with open(\"datasets/wine/wine_train.json\",\"w\") as jout:\n",
    "with open(\"datasets/wine/wine_test.json\",\"w\") as jout:\n",
    "    json.dump(dataset,jout)"
   ]
  },
  {
   "cell_type": "code",
   "execution_count": 133,
   "metadata": {},
   "outputs": [
    {
     "name": "stdout",
     "output_type": "stream",
     "text": [
      "[0.9007092198581557, 0.2478448275862069, 0.392156862745098, 0.36363636363636354, 0.5625, 0.759493670886076, 0.6088888888888888, 0.10204081632653056, 0.7725490196078433, 0.42203985932004695, 0.7647058823529412, 0.6937269372693726, 0.8776978417266188] 1 [1.0, 0.0, 0.0]\n"
     ]
    }
   ],
   "source": [
    "print(dataset[\"attribs\"][0],dataset[\"target\"][0],dataset[\"target_hot\"][0])"
   ]
  },
  {
   "cell_type": "code",
   "execution_count": null,
   "metadata": {},
   "outputs": [],
   "source": []
  }
 ],
 "metadata": {
  "kernelspec": {
   "display_name": "Python 3",
   "language": "python",
   "name": "python3"
  },
  "language_info": {
   "codemirror_mode": {
    "name": "ipython",
    "version": 3
   },
   "file_extension": ".py",
   "mimetype": "text/x-python",
   "name": "python",
   "nbconvert_exporter": "python",
   "pygments_lexer": "ipython3",
   "version": "3.6.7"
  }
 },
 "nbformat": 4,
 "nbformat_minor": 2
}
