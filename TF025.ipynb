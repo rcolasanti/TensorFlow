{
 "cells": [
  {
   "cell_type": "markdown",
   "metadata": {},
   "source": [
    "Load data for network from file"
   ]
  },
  {
   "cell_type": "code",
   "execution_count": 1,
   "metadata": {},
   "outputs": [],
   "source": [
    "import tensorflow as tf\n",
    "from sklearn.metrics import confusion_matrix\n",
    "from pprint import pprint\n",
    "from tensorflow.examples.tutorials.mnist import input_data\n",
    "import numpy as np\n",
    "import matplotlib.pyplot as plt\n",
    "import json\n",
    "%matplotlib inline\n",
    "sess = tf.InteractiveSession()\n",
    "    "
   ]
  },
  {
   "cell_type": "code",
   "execution_count": 2,
   "metadata": {},
   "outputs": [],
   "source": [
    "with open(\"datasets/wine/wine_train.json\") as json_data:\n",
    "    dataset = json.load(json_data)\n",
    "\n",
    "train_x = np.asarray(dataset[\"attribs\"])\n",
    "train_y = np.asarray(dataset[\"target_hot\"])"
   ]
  },
  {
   "cell_type": "code",
   "execution_count": 3,
   "metadata": {},
   "outputs": [],
   "source": [
    "class TfAnn(object):\n",
    "    \n",
    "    def __init__(self):\n",
    "        self.hidden=[]\n",
    "        self.np_hidden=[]\n",
    "        \n",
    "        self.n_nodes=[]\n",
    "        self.n_classes = 0\n",
    "        self.n_hiden_layers = 0\n",
    "\n",
    "    \n",
    "    def init_empty(self,layers,n_classes,size):\n",
    "        self.n_classes = n_classes\n",
    "        self.n_hiden_layers = len(layers)\n",
    "        for i in range(self.n_hiden_layers):\n",
    "            self.hidden.append({'weights':[],'biases':[]})\n",
    "            self.np_hidden.append({'weights':[],'biases':[]})\n",
    "            self.n_nodes.append(layers[i])\n",
    "        self.output_layer = {'weights':[],'biases':[]}\n",
    "        self.np_output_layer={\"weights\":[],\"biases\":[]}\n",
    "\n",
    "        for i in range(self.n_hiden_layers):\n",
    "            self.hidden[i] = {'weights':tf.Variable(tf.random_normal([size, self.n_nodes[i]])),\n",
    "                      'biases':tf.Variable(tf.random_normal([self.n_nodes[i]]))}\n",
    "            \n",
    "        self.output_layer = {'weights':tf.Variable(tf.random_normal([self.n_nodes[-1], self.n_classes])),\n",
    "                        'biases':tf.Variable(tf.random_normal([self.n_classes]))}\n",
    "\n",
    "\n",
    "    def init_json(self,tf_json):\n",
    "        tf_data = json.loads(tf_json)\n",
    "        self.n_classes = tf_data[\"n_classes\"]\n",
    "        self.n_hiden_layers = tf_data[\"n_hiden_layers\"]\n",
    "        self.hidden =tf_data[\"hidden\"]\n",
    "        self.output_layer =tf_data[\"output\"]\n",
    "\n",
    "\n",
    "    def create(self,data):\n",
    "        # This is the heart of the ann where multiply the data by the wights to the layers \n",
    "        for i in range(self.n_hiden_layers):\n",
    "            layer = tf.add(tf.matmul(data,self.hidden[i]['weights']), self.hidden[i]['biases'])\n",
    "            layer= tf.nn.relu(layer)\n",
    "        output =  tf.add(tf.matmul(layer,self.output_layer['weights']) , self.output_layer['biases'])\n",
    "        return output\n",
    "    \n",
    "    def extract(self):\n",
    "        for i in range(self.n_hiden_layers):\n",
    "            self.np_hidden[i][\"weights\"] = neural_network_model.hidden[i][\"weights\"].eval().tolist()\n",
    "            self.np_hidden[i][\"biases\"] = neural_network_model.hidden[i][\"biases\"].eval().tolist()\n",
    "        self.np_output_layer[\"weights\"] = neural_network_model.output_layer[\"weights\"].eval().tolist()\n",
    "        self.np_output_layer[\"biases\"] = neural_network_model.output_layer[\"biases\"].eval().tolist()\n",
    "        return json.dumps({\"n_classes\":self.n_classes,\"n_hiden_layers\":self.n_hiden_layers ,\"hidden\":self.np_hidden,\"output\":self.np_output_layer}, ensure_ascii=False)\n",
    "        \n",
    "        "
   ]
  },
  {
   "cell_type": "code",
   "execution_count": 4,
   "metadata": {},
   "outputs": [],
   "source": [
    "def train_neural_network_interactive(neural_network_model,x_data_train,y_data_train,x_data_test,y_data_test,hm_epochs):\n",
    "    x = tf.placeholder('float')\n",
    "    y = tf.placeholder('float')\n",
    "    prediction = neural_network_model.create(x)\n",
    "    cost = tf.reduce_mean( tf.nn.softmax_cross_entropy_with_logits(logits=prediction, labels=y) )\n",
    "    optimizer = tf.train.AdamOptimizer().minimize(cost)\n",
    "    init = tf.initialize_all_variables()\n",
    "    sess.run(init)\n",
    "    losses=[]\n",
    "    for epoch in range(hm_epochs):\n",
    "            _, c = sess.run([optimizer, cost], feed_dict={x:x_data_train,\n",
    "                                                          y:y_data_train})\n",
    "            losses.append(c)\n",
    "    cf = test_neural_network(neural_network_model,x_data_test,y_data_test)\n",
    "    return cf,losses\n",
    "   "
   ]
  },
  {
   "cell_type": "code",
   "execution_count": 5,
   "metadata": {},
   "outputs": [],
   "source": [
    "def test_neural_network(neural_network_model,x_data_test,y_data_test):\n",
    "    x = tf.placeholder('float')\n",
    "    prediction = neural_network_model.create(x)    \n",
    "    y_test_res=(sess.run(prediction,feed_dict={x:x_data_test}))       \n",
    "    true_class=np.argmax(y_data_test,1)\n",
    "    predicted_class=np.argmax(y_test_res,1)\n",
    "    cm = confusion_matrix(predicted_class,true_class)\n",
    "    cm = cm.astype('float')*10000 / cm.sum(axis=1)[:, np.newaxis]\n",
    "    cm = np.nan_to_num(cm, copy=True)\n",
    "    cm = cm.astype('int')\n",
    "    return cm*0.01"
   ]
  },
  {
   "cell_type": "code",
   "execution_count": 6,
   "metadata": {},
   "outputs": [],
   "source": [
    "from sklearn.model_selection import StratifiedKFold\n",
    "train_index=[]\n",
    "test_index=[]\n",
    "splits =5\n",
    "skf = StratifiedKFold(n_splits=splits,random_state=0,shuffle=True)\n",
    "for train_idx, test_idx in skf.split(train_x,train_y[:,0]):               \n",
    "    train_index.append(train_idx)\n",
    "    test_index.append(test_idx)"
   ]
  },
  {
   "cell_type": "code",
   "execution_count": 7,
   "metadata": {},
   "outputs": [],
   "source": [
    "import seaborn as sns\n",
    "def plot_confusion_matrix(cm, classes, title,classifier_name):\n",
    "    plt.rcParams.update({'font.size': 18})\n",
    "    fig,ax= plt.subplots(figsize=(5,4))\n",
    "    sns.set(font_scale=1.5)\n",
    "    sns_plot = sns.heatmap(cm, annot=True, ax = ax, cmap=\"Blues\"); #annot=True to annotate cells\n",
    "    ax.set_xlabel('Predicted labels');ax.set_ylabel('True labels'); \n",
    "    ax.set_title(title); \n",
    "    ax.xaxis.set_ticklabels(classes); ax.yaxis.set_ticklabels(classes);"
   ]
  },
  {
   "cell_type": "code",
   "execution_count": 8,
   "metadata": {
    "scrolled": false
   },
   "outputs": [
    {
     "name": "stdout",
     "output_type": "stream",
     "text": [
      "WARNING:tensorflow:From <ipython-input-4-bc5d22ce41cf>:5: softmax_cross_entropy_with_logits (from tensorflow.python.ops.nn_ops) is deprecated and will be removed in a future version.\n",
      "Instructions for updating:\n",
      "\n",
      "Future major versions of TensorFlow will allow gradients to flow\n",
      "into the labels input on backprop by default.\n",
      "\n",
      "See `tf.nn.softmax_cross_entropy_with_logits_v2`.\n",
      "\n",
      "WARNING:tensorflow:From /home/ric/Projects/Hull/HOMLWSLTF/env/lib/python3.6/site-packages/tensorflow/python/util/tf_should_use.py:189: initialize_all_variables (from tensorflow.python.ops.variables) is deprecated and will be removed after 2017-03-02.\n",
      "Instructions for updating:\n",
      "Use `tf.global_variables_initializer` instead.\n",
      "array([[100.  ,   0.  ,   0.  ],\n",
      "       [  7.69,  92.3 ,   0.  ],\n",
      "       [  0.  ,   0.  , 100.  ]])\n"
     ]
    },
    {
     "data": {
      "image/png": "[encoded data removed]",
      "text/plain": [
       "<Figure size 432x288 with 1 Axes>"
      ]
     },
     "metadata": {
      "needs_background": "light"
     },
     "output_type": "display_data"
    },
    {
     "name": "stdout",
     "output_type": "stream",
     "text": [
      "array([[ 90.9 ,   9.09,   0.  ],\n",
      "       [  0.  , 100.  ,   0.  ],\n",
      "       [  0.  ,   0.  , 100.  ]])\n"
     ]
    },
    {
     "data": {
      "image/png": "[encoded data removed]",
      "text/plain": [
       "<Figure size 432x288 with 1 Axes>"
      ]
     },
     "metadata": {
      "needs_background": "light"
     },
     "output_type": "display_data"
    },
    {
     "name": "stdout",
     "output_type": "stream",
     "text": [
      "array([[100.  ,   0.  ,   0.  ],\n",
      "       [  0.  ,  92.85,   7.14],\n",
      "       [  0.  ,   0.  , 100.  ]])\n"
     ]
    },
    {
     "data": {
      "image/png": "[encoded data removed]",
      "text/plain": [
       "<Figure size 432x288 with 1 Axes>"
      ]
     },
     "metadata": {
      "needs_background": "light"
     },
     "output_type": "display_data"
    },
    {
     "name": "stdout",
     "output_type": "stream",
     "text": [
      "array([[100.,   0.,   0.],\n",
      "       [  0., 100.,   0.],\n",
      "       [  0.,   0., 100.]])\n"
     ]
    },
    {
     "data": {
      "image/png": "[encoded data removed]",
      "text/plain": [
       "<Figure size 432x288 with 1 Axes>"
      ]
     },
     "metadata": {
      "needs_background": "light"
     },
     "output_type": "display_data"
    },
    {
     "name": "stdout",
     "output_type": "stream",
     "text": [
      "array([[100.,   0.,   0.],\n",
      "       [  0., 100.,   0.],\n",
      "       [  0.,  25.,  75.]])\n"
     ]
    },
    {
     "data": {
      "image/png": "[encoded data removed]",
      "text/plain": [
       "<Figure size 432x288 with 1 Axes>"
      ]
     },
     "metadata": {
      "needs_background": "light"
     },
     "output_type": "display_data"
    },
    {
     "name": "stdout",
     "output_type": "stream",
     "text": [
      "array([[98.18 ,  1.818,  0.   ],\n",
      "       [ 1.538, 97.03 ,  1.428],\n",
      "       [ 0.   ,  5.   , 95.   ]])\n"
     ]
    }
   ],
   "source": [
    "av_cf = np.empty([3,3,0])\n",
    "for fold in range(splits):\n",
    "    neural_network_model = TfAnn()\n",
    "    neural_network_model.init_empty([13],len(train_y[0]),len(train_x[0]))\n",
    "    x_data_train = train_x[train_index[fold]]\n",
    "    y_data_train = train_y[train_index[fold]] \n",
    "    x_data_test = train_x[test_index[fold]]\n",
    "    y_data_test = train_y[test_index[fold]]\n",
    "    cf,loss = train_neural_network_interactive(neural_network_model,x_data_train,y_data_train,x_data_test,y_data_test,2000)\n",
    "    av_cf = np.dstack([av_cf,cf])\n",
    "    pprint( cf)\n",
    "    #plot_confusion_matrix(cf,[1,2,3],\"Cf matrix\",\"wine\")\n",
    "    plt.plot(loss)\n",
    "    plt.show()\n",
    "pprint(av_cf.mean(axis=2))"
   ]
  },
  {
   "cell_type": "code",
   "execution_count": 9,
   "metadata": {},
   "outputs": [
    {
     "name": "stdout",
     "output_type": "stream",
     "text": [
      "array([[100.  ,   0.  ,   0.  ],\n",
      "       [  0.  , 100.  ,   0.  ],\n",
      "       [  0.  ,   2.56,  97.43]])\n"
     ]
    },
    {
     "data": {
      "image/png": "[encoded data removed]",
      "text/plain": [
       "<Figure size 360x288 with 2 Axes>"
      ]
     },
     "metadata": {
      "needs_background": "light"
     },
     "output_type": "display_data"
    }
   ],
   "source": [
    "neural_network_model = TfAnn()\n",
    "neural_network_model.init_empty([13],len(train_y[0]),len(train_x[0]))\n",
    "x_data_train = train_x\n",
    "y_data_train = train_y\n",
    "x_data_test = train_x\n",
    "y_data_test = train_y\n",
    "cf,loss = train_neural_network_interactive(neural_network_model,x_data_train,y_data_train,x_data_test,y_data_test,2000)\n",
    "pprint(cf)\n",
    "plot_confusion_matrix(cf,[1,2,3],\"Cf matrix\",\"wine\")\n",
    "plt.show()"
   ]
  },
  {
   "cell_type": "code",
   "execution_count": 10,
   "metadata": {},
   "outputs": [],
   "source": [
    "tf_json = neural_network_model.extract()"
   ]
  },
  {
   "cell_type": "code",
   "execution_count": 11,
   "metadata": {},
   "outputs": [
    {
     "name": "stdout",
     "output_type": "stream",
     "text": [
      "('{\"n_classes\": 3, \"n_hiden_layers\": 1, \"hidden\": [{\"weights\": '\n",
      " '[[0.312283456325531, 0.7419209480285645, -0.8293076157569885, '\n",
      " '1.743436574935913, -0.17511102557182312, -0.5600143074989319, '\n",
      " '1.8954734802246094, 0.7997921705245972, -1.610425591468811, '\n",
      " '0.13157160580158234, 1.5710991621017456, 1.4646244049072266, '\n",
      " '0.0948391780257225], [-1.4061321020126343, -0.19037485122680664, '\n",
      " '-1.0010195970535278, 0.5505068898200989, 0.5221741199493408, '\n",
      " '-1.2950804233551025, -1.0579712390899658, -1.080479621887207, '\n",
      " '-2.7385621070861816, -1.6056199073791504, -0.05900447443127632, '\n",
      " '-0.27151915431022644, 0.7008723616600037], [-1.5779004096984863, '\n",
      " '0.2983105480670929, 0.237373948097229, -0.4430324137210846, '\n",
      " '1.5677536725997925, 0.9337745308876038, -1.026184320449829, '\n",
      " '-0.15779772400856018, -1.8238834142684937, 1.6941524744033813, '\n",
      " '1.7510435581207275, 1.2827080488204956, -0.5422635078430176], '\n",
      " '[0.5737043023109436, 1.597626805305481, 0.15848155319690704, '\n",
      " '1.1442904472351074, -0.12599319219589233, -2.362412214279175, '\n",
      " '-1.8135062456130981, 1.2644028663635254, -0.2845093905925751, '\n",
      " '-1.122990608215332, -2.3508663177490234, -0.14708782732486725, '\n",
      " '1.4997477531433105], [0.5173044204711914, 0.4807906448841095, '\n",
      " '-1.3547420501708984, 0.14751918613910675, -0.5086969137191772, '\n",
      " '0.2915261685848236, -0.2994636297225952, 0.690478503704071, '\n",
      " '0.8503937125205994, -0.7738527059555054, 1.3122916221618652, '\n",
      " '-0.6910722851753235, -1.693102478981018], [-1.7130658626556396, '\n",
      " '-0.6572530269622803, -0.25985363125801086, -0.16175858676433563, '\n",
      " '0.1299895942211151, -1.4170376062393188, -0.055143680423498154, '\n",
      " '0.2085360288619995, 1.3914703130722046, 0.6532752513885498, '\n",
      " '0.5657069087028503, -0.615100622177124, 0.6625810861587524], '\n",
      " '[1.9473923444747925, -0.6261631846427917, 0.8787120580673218, '\n",
      " '-0.9090794920921326, -2.0083813667297363, 0.5744556188583374, '\n",
      " '-0.23159579932689667, 0.3627779483795166, 0.5130651593208313, '\n",
      " '-0.4756198227405548, 0.7643210291862488, 0.4702873229980469, '\n",
      " '-1.1164249181747437], [1.4724111557006836, 0.1381881833076477, '\n",
      " '-0.8841031789779663, -2.0581724643707275, -0.593148410320282, '\n",
      " '0.1296185553073883, -0.8065743446350098, -0.9351564645767212, '\n",
      " '1.1763001680374146, -1.1318501234054565, 0.13348685204982758, '\n",
      " '-0.3703027665615082, 0.37894800305366516], [0.5413417816162109, '\n",
      " '1.144018292427063, -0.6737769842147827, -1.1240787506103516, '\n",
      " '0.609781801700592, 0.9593702554702759, -0.5298135876655579, '\n",
      " '-0.7534210085868835, -1.321616768836975, 0.98850417137146, '\n",
      " '-0.49370527267456055, -0.5794733166694641, 0.5089333653450012], '\n",
      " '[0.29632532596588135, -1.7318798303604126, -2.019834041595459, '\n",
      " '0.149923637509346, -0.03847961127758026, -0.47019410133361816, '\n",
      " '0.7732772827148438, 0.9464903473854065, -0.4611244797706604, '\n",
      " '-0.8553680777549744, -0.6502463221549988, 3.74295973777771, '\n",
      " '-1.6517765522003174], [-0.534662663936615, -0.21602290868759155, '\n",
      " '0.8031340837478638, 0.14392322301864624, 0.6984737515449524, '\n",
      " '-0.6893647313117981, -0.01048352476209402, -1.78993821144104, '\n",
      " '2.244119882583618, 1.10112464427948, -0.4591493010520935, '\n",
      " '1.5217304229736328, -0.7732836604118347], [1.1082500219345093, '\n",
      " '0.23543120920658112, 1.462155818939209, -0.4721466302871704, '\n",
      " '-0.7151529788970947, -1.108886957168579, 0.24738383293151855, '\n",
      " '-0.22601987421512604, 0.2528688311576843, 1.73233962059021, '\n",
      " '0.7200941443443298, -1.1894704103469849, -2.3829567432403564], '\n",
      " '[-0.20554418861865997, 0.39285698533058167, -0.2829810380935669, '\n",
      " '-0.12077124416828156, 0.3606712818145752, -1.4681663513183594, '\n",
      " '1.2640507221221924, -0.5599905848503113, -1.759896159172058, '\n",
      " '0.808555543422699, 1.1536142826080322, 0.037946298718452454, '\n",
      " '-2.5324933528900146]], \"biases\": [-1.682989239692688, 0.9728647470474243, '\n",
      " '0.3664873242378235, -0.7698357105255127, 0.1872871369123459, '\n",
      " '-0.9857138991355896, -0.8988617062568665, -0.5548629760742188, '\n",
      " '1.3874914646148682, 0.6135367751121521, -1.0811166763305664, '\n",
      " '-0.7272846698760986, -0.9745762944221497]}], \"output\": {\"weights\": '\n",
      " '[[-0.16086697578430176, 0.7639665603637695, 1.5704518556594849], '\n",
      " '[-2.4198999404907227, 0.5515201687812805, -0.037853095680475235], '\n",
      " '[-1.3268488645553589, -0.10256840288639069, 0.8827133178710938], '\n",
      " '[1.0174596309661865, -1.01934015750885, -1.3483946323394775], '\n",
      " '[0.6996331214904785, -0.8818855285644531, 0.3378499746322632], '\n",
      " '[0.3307533264160156, -1.5220152139663696, -0.8092485666275024], '\n",
      " '[0.24652664363384247, 0.9089139699935913, 1.4466649293899536], '\n",
      " '[1.34247887134552, -2.1930768489837646, 0.9438858032226562], '\n",
      " '[-1.9012397527694702, 2.4224603176116943, -0.6445760130882263], '\n",
      " '[1.254445195198059, 0.653974175453186, -1.8544378280639648], '\n",
      " '[0.8028488755226135, -3.436274290084839, -1.8368123769760132], '\n",
      " '[-0.06834164261817932, -0.9270747900009155, 1.7947890758514404], '\n",
      " '[0.021820025518536568, 2.004025459289551, -2.522770643234253]], \"biases\": '\n",
      " '[0.09696073830127716, -0.5333677530288696, -0.6736087203025818]}}')\n"
     ]
    }
   ],
   "source": [
    "pprint(tf_json)"
   ]
  },
  {
   "cell_type": "code",
   "execution_count": 12,
   "metadata": {
    "scrolled": false
   },
   "outputs": [
    {
     "name": "stdout",
     "output_type": "stream",
     "text": [
      "array([[100.  ,   0.  ,   0.  ],\n",
      "       [  0.  , 100.  ,   0.  ],\n",
      "       [  0.  ,   2.56,  97.43]])\n"
     ]
    }
   ],
   "source": [
    "neural_network_model = TfAnn()\n",
    "neural_network_model.init_json(tf_json)\n",
    "x_data_test = train_x\n",
    "y_data_test = train_y\n",
    "pprint(test_neural_network(neural_network_model,x_data_test,y_data_test))\n",
    "\n",
    "\n",
    "with open(\"datasets/wine/wine_test.json\") as json_data:\n",
    "    test_dataset = json.load(json_data)\n",
    "\n",
    "test_x = np.asarray(test_dataset[\"attribs\"])\n",
    "test_y = np.asarray(test_dataset[\"target_hot\"])\n",
    "\n",
    "neural_network_model = TfAnn()\n",
    "neural_network_model.init_json(tf_json)\n",
    "cf = test_neural_network(neural_network_model,test_x,test_y)\n",
    "pprint(test_neural_network(neural_network_model,test_x,test_y))\n",
    "plot_confusion_matrix(cf,[1,2,3],\"Cf matrix\",\"wine\")"
   ]
  },
  {
   "cell_type": "code",
   "execution_count": null,
   "metadata": {},
   "outputs": [],
   "source": []
  }
 ],
 "metadata": {
  "kernelspec": {
   "display_name": "Python 3",
   "language": "python",
   "name": "python3"
  },
  "language_info": {
   "codemirror_mode": {
    "name": "ipython",
    "version": 3
   },
   "file_extension": ".py",
   "mimetype": "text/x-python",
   "name": "python",
   "nbconvert_exporter": "python",
   "pygments_lexer": "ipython3",
   "version": "3.6.7"
  }
 },
 "nbformat": 4,
 "nbformat_minor": 2
}
