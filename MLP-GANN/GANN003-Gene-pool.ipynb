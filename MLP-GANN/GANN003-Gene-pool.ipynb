{
 "cells": [
  {
   "cell_type": "markdown",
   "metadata": {},
   "source": [
    "Load Libraries"
   ]
  },
  {
   "cell_type": "code",
   "execution_count": 144,
   "metadata": {},
   "outputs": [
    {
     "name": "stderr",
     "output_type": "stream",
     "text": [
      "/home/ric/Projects/Python/env/lib/python3.6/site-packages/tensorflow/python/client/session.py:1702: UserWarning: An interactive session is already active. This can cause out-of-memory errors in some cases. You must explicitly call `InteractiveSession.close()` to release resources held by the other session(s).\n",
      "  warnings.warn('An interactive session is already active. This can '\n"
     ]
    }
   ],
   "source": [
    "import tensorflow as tf\n",
    "from sklearn.metrics import confusion_matrix,accuracy_score\n",
    "from pprint import pprint\n",
    "from tensorflow.examples.tutorials.mnist import input_data\n",
    "import numpy as np\n",
    "import matplotlib.pyplot as plt\n",
    "import json\n",
    "from random import random,randint, shuffle\n",
    "%matplotlib inline\n",
    "sess = tf.InteractiveSession()\n",
    "    "
   ]
  },
  {
   "cell_type": "markdown",
   "metadata": {},
   "source": [
    "TensorFlow MLP Class"
   ]
  },
  {
   "cell_type": "code",
   "execution_count": 167,
   "metadata": {},
   "outputs": [],
   "source": [
    "class TfAnn(object):\n",
    "    \n",
    "    def __init__(self):\n",
    "        self.hidden=[]\n",
    "        self.np_hidden=[]\n",
    "        \n",
    "        self.n_nodes=[]\n",
    "        self.n_classes = 0\n",
    "        self.n_hiden_layers = 0\n",
    "\n",
    "    # create empty network for training\n",
    "    def init_empty(self,layers,n_classes,size):\n",
    "        self.n_classes = n_classes\n",
    "        self.n_hiden_layers = len(layers)\n",
    "        for i in range(self.n_hiden_layers):\n",
    "            self.hidden.append({'weights':[],'biases':[]})\n",
    "            self.np_hidden.append({'weights':[],'biases':[]})\n",
    "            self.n_nodes.append(layers[i])\n",
    "        self.output_layer = {'weights':[],'biases':[]}\n",
    "        self.np_output_layer={\"weights\":[],\"biases\":[]}\n",
    "\n",
    "        for i in range(self.n_hiden_layers):\n",
    "            self.hidden[i] = {'weights':tf.Variable(tf.random_normal([size, self.n_nodes[i]])),\n",
    "                      'biases':tf.Variable(tf.random_normal([self.n_nodes[i]]))}\n",
    "            \n",
    "        self.output_layer = {'weights':tf.Variable(tf.random_normal([self.n_nodes[-1], self.n_classes])),\n",
    "                        'biases':tf.Variable(tf.random_normal([self.n_classes]))}\n",
    "\n",
    "    \n",
    "    def get_number_of_nodes(self,layer):\n",
    "        return len(self.hidden[layer]['weights'][0])\n",
    "    \n",
    "    # Reinflate network from json description\n",
    "    def init_json(self,jfile):\n",
    "        with open(jfile) as json_data:\n",
    "            tf_data = json.load(json_data)\n",
    "        self.n_classes = tf_data[\"n_classes\"]\n",
    "        self.n_hiden_layers = tf_data[\"n_hiden_layers\"]\n",
    "        self.hidden =tf_data[\"hidden\"]\n",
    "        \n",
    "        self.output_layer =tf_data[\"output\"]\n",
    "\n",
    "\n",
    "        \n",
    "    def create(self,data,mask):\n",
    "        # This is the heart of the ann where multiply the data by the wights to the layers \n",
    "        for i in range(self.n_hiden_layers):\n",
    "            project_weights = [list(np.array(a)*b) for a,b in zip(self.hidden[i]['weights'],mask[i])]\n",
    "            project_biases = [a*b for a,b in zip(self.hidden[i]['biases'],mask[i])]\n",
    "            layer = tf.add(\n",
    "                tf.matmul(data,project_weights)\n",
    "                , project_biases)\n",
    "            layer= tf.nn.relu(layer)\n",
    "        output =  tf.add(tf.matmul(layer,self.output_layer['weights']) , self.output_layer['biases'])\n",
    "        return output\n",
    "    \n",
    "    \n",
    "    #Save a trained network as a json file\n",
    "    def extract(self,jfile):\n",
    "        for i in range(self.n_hiden_layers):\n",
    "            self.np_hidden[i][\"weights\"] = neural_network_model.hidden[i][\"weights\"].eval().tolist()\n",
    "            self.np_hidden[i][\"biases\"] = neural_network_model.hidden[i][\"biases\"].eval().tolist()\n",
    "        self.np_output_layer[\"weights\"] = neural_network_model.output_layer[\"weights\"].eval().tolist()\n",
    "        self.np_output_layer[\"biases\"] = neural_network_model.output_layer[\"biases\"].eval().tolist()\n",
    "        with open(jfile,\"w\") as jout:\n",
    "            json.dump({\"n_classes\":self.n_classes, # number of input classifier classes\n",
    "                       \"n_hiden_layers\":self.n_hiden_layers, # number of \n",
    "                       \"hidden\":self.np_hidden,# weights and biases\n",
    "                       # each layer is defined by dict {'weights':[],'biases':[]}\n",
    "                       \"output\":self.np_output_layer} # as for hidden\n",
    "                      ,jout)\n",
    "        \n",
    "        "
   ]
  },
  {
   "cell_type": "code",
   "execution_count": 168,
   "metadata": {},
   "outputs": [],
   "source": [
    "class Gene(object):\n",
    "    size=0\n",
    "    mutation_rate=0.0\n",
    "    \n",
    "    def __init__(self):\n",
    "        self.mask=[0 for _ in range(Gene.size)]\n",
    "        self.fittness=0\n",
    "        self.accuracy=0\n",
    "        \n",
    "    def random(self):\n",
    "        for i in range(Gene.size):\n",
    "            self.mask[i] = randint(0, 1)\n",
    "    \n",
    "    def cross(self,gene1):\n",
    "        cross_point = randint(1,Gene.size)\n",
    "        gene3 = Gene()\n",
    "        gene4 = Gene()\n",
    "        gene3.mask=gene1.mask[:cross_point]+self.mask[cross_point:]\n",
    "        gene4.mask=gene1.mask[cross_point:]+self.mask[:cross_point]\n",
    "        return gene3, gene4\n",
    "    \n",
    "    def mutate(self):\n",
    "        if random()<Gene.mutation_rate:\n",
    "            mut_point =  randint(0,Gene.size-1)\n",
    "            self.mask[mut_point]+=1\n",
    "            self.mask[mut_point]=self.mask[mut_point]%2\n",
    "    \n",
    "    def __lt__(self, other):\n",
    "        return self.fittness > other.fittness"
   ]
  },
  {
   "cell_type": "code",
   "execution_count": 169,
   "metadata": {},
   "outputs": [],
   "source": [
    "def test_neural_network(neural_network_model,mask,x_data_test,y_data_test):\n",
    "    # set up network\n",
    "    x = tf.placeholder('float')\n",
    "    prediction = neural_network_model.create(x,mask)    \n",
    "    \n",
    "    # ren test data\n",
    "    y_test_res=(sess.run(prediction,feed_dict={x:x_data_test}))       \n",
    "    # the correct data\n",
    "    true_class=np.argmax(y_data_test,1)\n",
    "    \n",
    "    # get the index of the outpt array with heighest value\n",
    "    predicted_class=np.argmax(y_test_res,1)\n",
    "    \n",
    "    # calculate confusion matix\n",
    "    cm = confusion_matrix(true_class,predicted_class)\n",
    "    cm = cm.astype('float')*10000 / cm.sum(axis=1)[:, np.newaxis]\n",
    "    cm = np.nan_to_num(cm, copy=True)\n",
    "    cm = cm.astype('int')\n",
    "    return accuracy_score(true_class, predicted_class) , cm*0.01"
   ]
  },
  {
   "cell_type": "code",
   "execution_count": 170,
   "metadata": {},
   "outputs": [],
   "source": [
    "def t_select(size,sub_size):\n",
    "    pop = list(range(size))\n",
    "    shuffle(pop)\n",
    "    x = pop[:sub_size]\n",
    "    x.sort()\n",
    "    return x[0]\n",
    "    "
   ]
  },
  {
   "cell_type": "code",
   "execution_count": 171,
   "metadata": {
    "scrolled": false
   },
   "outputs": [
    {
     "name": "stdout",
     "output_type": "stream",
     "text": [
      "1.0 13\n"
     ]
    }
   ],
   "source": [
    "with open(\"datasets/wine/wine_train.json\") as json_data:\n",
    "    test_dataset = json.load(json_data)\n",
    "\n",
    "test_x = np.asarray(test_dataset[\"attribs\"])\n",
    "test_y = np.asarray(test_dataset[\"target_hot\"])\n",
    "\n",
    "neural_network_model = TfAnn()\n",
    "neural_network_model.init_json(\"classifiers/wine-mlp.json\")\n",
    "Gene.size = neural_network_model.get_number_of_nodes(0)\n",
    "Gene.mutation_rate=0.1\n",
    "acc,cf = test_neural_network(neural_network_model,[[1 for _ in range(Gene.size)]],test_x,test_y)\n",
    "print(acc,Gene.size)"
   ]
  },
  {
   "cell_type": "code",
   "execution_count": 172,
   "metadata": {},
   "outputs": [],
   "source": [
    "gene_pool = []\n",
    "for _ in range(100):\n",
    "    a_gene = Gene()\n",
    "    a_gene.random()\n",
    "    gene_pool.append(a_gene)\n"
   ]
  },
  {
   "cell_type": "code",
   "execution_count": 173,
   "metadata": {},
   "outputs": [],
   "source": [
    "def run_gene(gene):\n",
    "    gene.accuracy,cf = test_neural_network(neural_network_model,[gene.mask],test_x,test_y)\n",
    "    gene.fittness = gene.accuracy*(Gene.size-sum(gene.mask))/Gene.size"
   ]
  },
  {
   "cell_type": "code",
   "execution_count": 174,
   "metadata": {},
   "outputs": [],
   "source": [
    "for gene in gene_pool:\n",
    "    run_gene(gene)\n",
    "    "
   ]
  },
  {
   "cell_type": "code",
   "execution_count": 175,
   "metadata": {},
   "outputs": [
    {
     "name": "stdout",
     "output_type": "stream",
     "text": [
      "0.4550379198266522 0.8450704225352113 7\n",
      "0.4507042253521127 0.7323943661971831 8\n",
      "0.4452871072589383 0.9647887323943662 6\n",
      "0.4322860238353196 0.8028169014084507 7\n",
      "0.4322860238353196 0.8028169014084507 7\n",
      "0.42903575297941493 0.6971830985915493 8\n",
      "0.42903575297941493 0.6197183098591549 9\n",
      "0.42849404117009754 0.795774647887324 7\n",
      "0.4247020585048754 0.7887323943661971 7\n",
      "0.4225352112676056 0.9154929577464789 6\n",
      "0.4062838569880824 0.8802816901408451 6\n",
      "0.39869989165763814 0.647887323943662 8\n",
      "0.3943661971830986 0.7323943661971831 7\n",
      "0.39003250270855905 0.6338028169014085 8\n",
      "0.3851570964247021 0.5563380281690141 9\n",
      "0.3829902491874323 0.7112676056338029 7\n",
      "0.37378114842903576 0.8098591549295775 6\n",
      "0.37269772481040087 0.6056338028169014 8\n",
      "0.3705308775731311 0.5352112676056338 9\n",
      "0.36782231852654385 0.6830985915492958 7\n"
     ]
    }
   ],
   "source": [
    "gene_pool.sort()\n",
    "for g in gene_pool[:20]:\n",
    "    print(g.fittness,g.accuracy, Gene.size-sum(g.mask))"
   ]
  },
  {
   "cell_type": "code",
   "execution_count": 176,
   "metadata": {},
   "outputs": [
    {
     "name": "stdout",
     "output_type": "stream",
     "text": [
      "0.5633802816901409 0.9154929577464789 8\n",
      "0.6191765980498375 0.8943661971830986 9\n",
      "0.6608884073672806 0.8591549295774648 10\n",
      "0.6608884073672806 0.8591549295774648 10\n",
      "0.6608884073672806 0.8591549295774648 10\n",
      "0.6608884073672806 0.8591549295774648 10\n",
      "0.6933911159263272 0.9014084507042254 10\n",
      "0.6988082340195017 0.9084507042253521 10\n",
      "0.6988082340195017 0.9084507042253521 10\n",
      "0.7329360780065005 0.8661971830985915 11\n"
     ]
    }
   ],
   "source": [
    "for _ in range( 10):\n",
    "    new_pool=gene_pool[:20]\n",
    "    for _ in range(40):\n",
    "        gene1 = gene_pool[t_select(len(gene_pool),3)]\n",
    "        gene2 = gene_pool[t_select(len(gene_pool),3)]\n",
    "        ngene1, ngene2 = gene1.cross(gene2)\n",
    "        ngene1.mutate()\n",
    "        ngene2.mutate()\n",
    "        run_gene(ngene1)\n",
    "        run_gene(ngene2)\n",
    "        new_pool.append(ngene1)    \n",
    "        new_pool.append(ngene2)\n",
    "    gene_pool = new_pool\n",
    "    gene_pool.sort()\n",
    "    g = gene_pool[0]\n",
    "    print(g.fittness,g.accuracy, Gene.size-sum(g.mask))\n"
   ]
  },
  {
   "cell_type": "code",
   "execution_count": 177,
   "metadata": {},
   "outputs": [],
   "source": [
    "gene = gene_pool[0]\n",
    "acc,cf = test_neural_network(neural_network_model,[gene.mask],test_x,test_y)"
   ]
  },
  {
   "cell_type": "code",
   "execution_count": 178,
   "metadata": {},
   "outputs": [
    {
     "data": {
      "text/plain": [
       "array([[100.  ,   0.  ,   0.  ],\n",
       "       [ 14.03,  84.21,   1.75],\n",
       "       [  0.  ,  26.31,  73.68]])"
      ]
     },
     "execution_count": 178,
     "metadata": {},
     "output_type": "execute_result"
    }
   ],
   "source": [
    "cf"
   ]
  },
  {
   "cell_type": "code",
   "execution_count": 179,
   "metadata": {},
   "outputs": [
    {
     "data": {
      "text/plain": [
       "[0, 0, 0, 0, 0, 0, 1, 0, 0, 0, 0, 0, 1]"
      ]
     },
     "execution_count": 179,
     "metadata": {},
     "output_type": "execute_result"
    }
   ],
   "source": [
    "gene.mask"
   ]
  },
  {
   "cell_type": "code",
   "execution_count": 180,
   "metadata": {},
   "outputs": [
    {
     "data": {
      "text/plain": [
       "0.8661971830985915"
      ]
     },
     "execution_count": 180,
     "metadata": {},
     "output_type": "execute_result"
    }
   ],
   "source": [
    " acc"
   ]
  },
  {
   "cell_type": "code",
   "execution_count": 181,
   "metadata": {},
   "outputs": [],
   "source": [
    "labs=[\"Alchol\", \"Malic_Acid\", \"Ash\", \"Alcalinity_of_Ash\", \"Magnesium\", \"Total_phenols\", \"Falvanoids\", \"Nonflavanoid_phenols\", \"Proanthocyanins\", \"Color_intensity\", \"Hue\", \"OD280\", \"Proline\"]"
   ]
  },
  {
   "cell_type": "code",
   "execution_count": 182,
   "metadata": {},
   "outputs": [
    {
     "name": "stdout",
     "output_type": "stream",
     "text": [
      "Falvanoids\n",
      "Proline\n"
     ]
    }
   ],
   "source": [
    "for l in [i for i,x in enumerate(gene.mask) if x == 1]:\n",
    "    print(labs[l])"
   ]
  },
  {
   "cell_type": "markdown",
   "metadata": {},
   "source": [
    "if ( Falvanoids <= 0.3632352948188782 ) {\n",
    "    if ( Color_intensity <= 0.21715017408132553 ) {\n",
    "        return 2 ( 12 examples )\n",
    "    }\n",
    "    else {\n",
    "        return 2 ( 1 examples )\n",
    "        return 3 ( 38 examples )\n",
    "    }\n",
    "}\n",
    "else {\n",
    "    if ( Proline <= 0.3609539121389389 ) {\n",
    "        return 1 ( 1 examples )\n",
    "        return 2 ( 40 examples )\n",
    "    }\n",
    "    else {\n",
    "        return 1 ( 46 examples )\n",
    "        return 2 ( 4 examples )\n",
    "    }\n",
    "}"
   ]
  }
 ],
 "metadata": {
  "kernelspec": {
   "display_name": "Python 3",
   "language": "python",
   "name": "python3"
  },
  "language_info": {
   "codemirror_mode": {
    "name": "ipython",
    "version": 3
   },
   "file_extension": ".py",
   "mimetype": "text/x-python",
   "name": "python",
   "nbconvert_exporter": "python",
   "pygments_lexer": "ipython3",
   "version": "3.6.7"
  }
 },
 "nbformat": 4,
 "nbformat_minor": 2
}
