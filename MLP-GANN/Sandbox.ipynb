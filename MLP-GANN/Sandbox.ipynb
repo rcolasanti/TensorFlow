{
 "cells": [
  {
   "cell_type": "code",
   "execution_count": 97,
   "metadata": {},
   "outputs": [
    {
     "name": "stdout",
     "output_type": "stream",
     "text": [
      "0.12423863574935201\n"
     ]
    }
   ],
   "source": [
    "from random import random , shuffle, randint\n",
    "from pprint import pprint\n",
    "print(random())"
   ]
  },
  {
   "cell_type": "code",
   "execution_count": 83,
   "metadata": {},
   "outputs": [],
   "source": [
    "class TestObj(object):\n",
    "    def __init__(self):\n",
    "        self.x = random()\n",
    "        \n",
    "    def __lt__(self, other):\n",
    "        return self.x > other.x"
   ]
  },
  {
   "cell_type": "code",
   "execution_count": 84,
   "metadata": {},
   "outputs": [],
   "source": [
    "objects = [ TestObj() for _ in range(10)]"
   ]
  },
  {
   "cell_type": "code",
   "execution_count": 85,
   "metadata": {},
   "outputs": [],
   "source": [
    "objects.sort()"
   ]
  },
  {
   "cell_type": "code",
   "execution_count": 86,
   "metadata": {},
   "outputs": [
    {
     "name": "stdout",
     "output_type": "stream",
     "text": [
      "0.9192625228673549\n",
      "0.8401289497102232\n",
      "0.7864854583906526\n",
      "0.7337439824350724\n",
      "0.5190054161511034\n",
      "0.3995252046993647\n",
      "0.1575342592741762\n",
      "0.10884482508971716\n",
      "0.09881303525618212\n",
      "0.006313687899819009\n"
     ]
    }
   ],
   "source": [
    "for i in objects:\n",
    "    print(i.x)"
   ]
  },
  {
   "cell_type": "code",
   "execution_count": 88,
   "metadata": {},
   "outputs": [],
   "source": [
    "def t_select(size,sub_size):\n",
    "    pop = list(range(size))\n",
    "    shuffle(pop)\n",
    "    x = pop[:sub_size]\n",
    "    x.sort()\n",
    "    return x[0]\n",
    "    \n",
    "    "
   ]
  },
  {
   "cell_type": "code",
   "execution_count": null,
   "metadata": {},
   "outputs": [],
   "source": []
  },
  {
   "cell_type": "code",
   "execution_count": 94,
   "metadata": {},
   "outputs": [
    {
     "name": "stdout",
     "output_type": "stream",
     "text": [
      "0.10884482508971716\n",
      "0.9192625228673549\n",
      "0.10884482508971716\n",
      "0.7864854583906526\n",
      "0.9192625228673549\n",
      "0.7864854583906526\n",
      "0.9192625228673549\n",
      "0.8401289497102232\n",
      "0.8401289497102232\n",
      "0.5190054161511034\n"
     ]
    }
   ],
   "source": [
    "for _ in range (10):\n",
    "    print(objects[t_select(len(objects),2)].x)"
   ]
  },
  {
   "cell_type": "code",
   "execution_count": 98,
   "metadata": {},
   "outputs": [
    {
     "name": "stdout",
     "output_type": "stream",
     "text": [
      "1\n",
      "0\n",
      "0\n",
      "4\n",
      "0\n",
      "0\n",
      "0\n",
      "4\n",
      "3\n",
      "3\n",
      "2\n",
      "1\n",
      "2\n",
      "1\n",
      "4\n",
      "1\n",
      "1\n",
      "2\n",
      "1\n",
      "3\n",
      "3\n",
      "3\n",
      "2\n",
      "2\n",
      "4\n",
      "0\n",
      "0\n",
      "3\n",
      "4\n",
      "3\n"
     ]
    }
   ],
   "source": [
    "for _ in range(30):\n",
    "    print(randint(0,4))"
   ]
  },
  {
   "cell_type": "code",
   "execution_count": null,
   "metadata": {},
   "outputs": [],
   "source": []
  }
 ],
 "metadata": {
  "kernelspec": {
   "display_name": "Python 3",
   "language": "python",
   "name": "python3"
  },
  "language_info": {
   "codemirror_mode": {
    "name": "ipython",
    "version": 3
   },
   "file_extension": ".py",
   "mimetype": "text/x-python",
   "name": "python",
   "nbconvert_exporter": "python",
   "pygments_lexer": "ipython3",
   "version": "3.6.7"
  }
 },
 "nbformat": 4,
 "nbformat_minor": 2
}
