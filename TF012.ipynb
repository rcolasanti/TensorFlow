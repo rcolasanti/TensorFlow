{
 "cells": [
  {
   "cell_type": "code",
   "execution_count": 4,
   "metadata": {},
   "outputs": [],
   "source": [
    "import pycuda.driver as drv\n",
    "import pycuda.tools\n",
    "import pycuda.autoinit\n",
    "from pycuda.compiler import SourceModule\n",
    "import pycuda.gpuarray as gpuarray\n",
    "from pycuda.elementwise import ElementwiseKernel\n",
    "\n",
    "complex_gpu = ElementwiseKernel(\n",
    "    \"pycuda::complex<float> *q, int *output, int maxiter\",\n",
    "    \"\"\"\n",
    "    {\n",
    "        float nreal, real = 0;\n",
    "        float imag = 0;\n",
    "        output[i] = 0;\n",
    "        for(int curiter = 0; curiter < maxiter; curiter++) {\n",
    "            float real2 = real*real;\n",
    "            float imag2 = imag*imag;\n",
    "            nreal = real2 - imag2 + q[i].real();\n",
    "            imag = 2* real*imag + q[i].imag();\n",
    "            real = nreal;\n",
    "            if (real2 + imag2 > 4.0f){\n",
    "                output[i] = curiter;\n",
    "                break;\n",
    "                };\n",
    "        };\n",
    "    }\n",
    "    \"\"\",\n",
    "    \"complex5\",\n",
    "    preamble=\"#include <pycuda-complex.hpp>\",)\n",
    "\n",
    "def mandelbrot_gpu(c, maxiter):\n",
    "    q_gpu = gpuarray.to_gpu(c.astype(np.complex64))\n",
    "    iterations_gpu = gpuarray.to_gpu(np.empty(c.shape, dtype=np.int))\n",
    "    complex_gpu(q_gpu, iterations_gpu, maxiter)\n",
    "\n",
    "    return iterations_gpu.get()"
   ]
  },
  {
   "cell_type": "code",
   "execution_count": null,
   "metadata": {},
   "outputs": [],
   "source": []
  }
 ],
 "metadata": {
  "kernelspec": {
   "display_name": "Python 3",
   "language": "python",
   "name": "python3"
  },
  "language_info": {
   "codemirror_mode": {
    "name": "ipython",
    "version": 3
   },
   "file_extension": ".py",
   "mimetype": "text/x-python",
   "name": "python",
   "nbconvert_exporter": "python",
   "pygments_lexer": "ipython3",
   "version": "3.6.7"
  }
 },
 "nbformat": 4,
 "nbformat_minor": 2
}
